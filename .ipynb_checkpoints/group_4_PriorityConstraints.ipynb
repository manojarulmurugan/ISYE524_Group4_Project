{
 "cells": [
  {
   "cell_type": "markdown",
   "id": "847d448c-d46b-4626-af0b-6f83e298e553",
   "metadata": {},
   "source": [
    "# Project Report for Group 4"
   ]
  },
  {
   "cell_type": "markdown",
   "id": "b9b04a10-c251-42d7-a6ec-bc925cbf7ed7",
   "metadata": {},
   "source": [
    "## Ship Route Optimization"
   ]
  },
  {
   "cell_type": "markdown",
   "id": "4c8666d9-942a-49b1-aba2-67c57167c626",
   "metadata": {},
   "source": [
    "What?\n",
    "What is the scope of work\n",
    "\n",
    "Mathematical model"
   ]
  },
  {
   "cell_type": "code",
   "execution_count": 93,
   "id": "6e35688b-c25f-4d31-b6be-341c7bc527af",
   "metadata": {},
   "outputs": [
    {
     "name": "stderr",
     "output_type": "stream",
     "text": [
      "\u001b[32m\u001b[1m   Resolving\u001b[22m\u001b[39m package versions...\n",
      "\u001b[32m\u001b[1m  No Changes\u001b[22m\u001b[39m to `~/.julia/environments/v1.11/Project.toml`\n",
      "\u001b[32m\u001b[1m  No Changes\u001b[22m\u001b[39m to `~/.julia/environments/v1.11/Manifest.toml`\n",
      "\u001b[32m\u001b[1m    Building\u001b[22m\u001b[39m Gurobi → `~/.julia/scratchspaces/44cfe95a-1eb2-52ea-b672-e2afdf69b78f/5f5beefaf8b43dbd76cb4e61f854ed54c40dcd7e/build.log`\n"
     ]
    }
   ],
   "source": [
    "using Pkg\n",
    "Pkg.add(\"Gurobi\")\n",
    "Pkg.build(\"Gurobi\")"
   ]
  },
  {
   "cell_type": "code",
   "execution_count": 94,
   "id": "ec8c9aa6-7d2d-47c5-b059-ab97dec36235",
   "metadata": {},
   "outputs": [
    {
     "name": "stderr",
     "output_type": "stream",
     "text": [
      "\u001b[32m\u001b[1m   Resolving\u001b[22m\u001b[39m package versions...\n",
      "\u001b[32m\u001b[1m  No Changes\u001b[22m\u001b[39m to `~/.julia/environments/v1.11/Project.toml`\n",
      "\u001b[32m\u001b[1m  No Changes\u001b[22m\u001b[39m to `~/.julia/environments/v1.11/Manifest.toml`\n",
      "\u001b[32m\u001b[1m   Resolving\u001b[22m\u001b[39m package versions...\n",
      "\u001b[32m\u001b[1m  No Changes\u001b[22m\u001b[39m to `~/.julia/environments/v1.11/Project.toml`\n",
      "\u001b[32m\u001b[1m  No Changes\u001b[22m\u001b[39m to `~/.julia/environments/v1.11/Manifest.toml`\n",
      "\u001b[32m\u001b[1m   Resolving\u001b[22m\u001b[39m package versions...\n",
      "\u001b[32m\u001b[1m  No Changes\u001b[22m\u001b[39m to `~/.julia/environments/v1.11/Project.toml`\n",
      "\u001b[32m\u001b[1m  No Changes\u001b[22m\u001b[39m to `~/.julia/environments/v1.11/Manifest.toml`\n",
      "\u001b[32m\u001b[1m   Resolving\u001b[22m\u001b[39m package versions...\n",
      "\u001b[32m\u001b[1m  No Changes\u001b[22m\u001b[39m to `~/.julia/environments/v1.11/Project.toml`\n",
      "\u001b[32m\u001b[1m  No Changes\u001b[22m\u001b[39m to `~/.julia/environments/v1.11/Manifest.toml`\n",
      "\u001b[32m\u001b[1m   Resolving\u001b[22m\u001b[39m package versions...\n",
      "\u001b[32m\u001b[1m  No Changes\u001b[22m\u001b[39m to `~/.julia/environments/v1.11/Project.toml`\n",
      "\u001b[32m\u001b[1m  No Changes\u001b[22m\u001b[39m to `~/.julia/environments/v1.11/Manifest.toml`\n",
      "\u001b[32m\u001b[1m   Resolving\u001b[22m\u001b[39m package versions...\n",
      "\u001b[32m\u001b[1m  No Changes\u001b[22m\u001b[39m to `~/.julia/environments/v1.11/Project.toml`\n",
      "\u001b[32m\u001b[1m  No Changes\u001b[22m\u001b[39m to `~/.julia/environments/v1.11/Manifest.toml`\n",
      "\u001b[32m\u001b[1m   Resolving\u001b[22m\u001b[39m package versions...\n",
      "\u001b[32m\u001b[1m  No Changes\u001b[22m\u001b[39m to `~/.julia/environments/v1.11/Project.toml`\n",
      "\u001b[32m\u001b[1m  No Changes\u001b[22m\u001b[39m to `~/.julia/environments/v1.11/Manifest.toml`\n",
      "\u001b[32m\u001b[1m   Resolving\u001b[22m\u001b[39m package versions...\n",
      "\u001b[32m\u001b[1m  No Changes\u001b[22m\u001b[39m to `~/.julia/environments/v1.11/Project.toml`\n",
      "\u001b[32m\u001b[1m  No Changes\u001b[22m\u001b[39m to `~/.julia/environments/v1.11/Manifest.toml`\n",
      "\u001b[32m\u001b[1m   Resolving\u001b[22m\u001b[39m package versions...\n",
      "\u001b[32m\u001b[1m  No Changes\u001b[22m\u001b[39m to `~/.julia/environments/v1.11/Project.toml`\n",
      "\u001b[32m\u001b[1m  No Changes\u001b[22m\u001b[39m to `~/.julia/environments/v1.11/Manifest.toml`\n",
      "\u001b[32m\u001b[1m   Resolving\u001b[22m\u001b[39m package versions...\n",
      "\u001b[32m\u001b[1m  No Changes\u001b[22m\u001b[39m to `~/.julia/environments/v1.11/Project.toml`\n",
      "\u001b[32m\u001b[1m  No Changes\u001b[22m\u001b[39m to `~/.julia/environments/v1.11/Manifest.toml`\n",
      "\u001b[32m\u001b[1m   Resolving\u001b[22m\u001b[39m package versions...\n",
      "\u001b[32m\u001b[1m  No Changes\u001b[22m\u001b[39m to `~/.julia/environments/v1.11/Project.toml`\n",
      "\u001b[32m\u001b[1m  No Changes\u001b[22m\u001b[39m to `~/.julia/environments/v1.11/Manifest.toml`\n",
      "\u001b[32m\u001b[1m   Resolving\u001b[22m\u001b[39m package versions...\n",
      "\u001b[32m\u001b[1m  No Changes\u001b[22m\u001b[39m to `~/.julia/environments/v1.11/Project.toml`\n",
      "\u001b[32m\u001b[1m  No Changes\u001b[22m\u001b[39m to `~/.julia/environments/v1.11/Manifest.toml`\n"
     ]
    }
   ],
   "source": [
    "### Add packages here\n",
    "Pkg.add(\"Distributions\")\n",
    "Pkg.add(\"StatsBase\")\n",
    "Pkg.add(\"Juniper\")\n",
    "Pkg.add(\"PyPlot\")\n",
    "Pkg.add(\"MeshGrid\")\n",
    "Pkg.add(\"COSMO\")\n",
    "Pkg.add(\"StatsBase\")\n",
    "Pkg.add(\"LinearAlgebra\")\n",
    "Pkg.add(\"Random\")\n",
    "Pkg.add(\"Ipopt\")\n",
    "Pkg.add(\"Juniper\")\n",
    "Pkg.add(\"Printf\")"
   ]
  },
  {
   "cell_type": "code",
   "execution_count": 95,
   "id": "a2d859d7-4af6-4f7b-af8a-a74c12d4c33d",
   "metadata": {},
   "outputs": [],
   "source": [
    "using PyPlot, MeshGrid, StatsBase, LinearAlgebra, Random, Distributions"
   ]
  },
  {
   "cell_type": "code",
   "execution_count": 96,
   "id": "d4f212ca-b39e-42cd-8d89-76336774df55",
   "metadata": {},
   "outputs": [],
   "source": [
    "using JuMP, GLPK, COSMO, Gurobi, Juniper, Ipopt, Printf"
   ]
  },
  {
   "cell_type": "markdown",
   "id": "a54d7c2e-51b4-4569-80ea-7b1a5a7f5056",
   "metadata": {},
   "source": [
    "### Helper Functions"
   ]
  },
  {
   "cell_type": "code",
   "execution_count": 97,
   "id": "71aff5c5-8d18-4d0c-a02d-cac6af2ef304",
   "metadata": {},
   "outputs": [
    {
     "data": {
      "text/plain": [
       "nodeToNum (generic function with 1 method)"
      ]
     },
     "execution_count": 97,
     "metadata": {},
     "output_type": "execute_result"
    }
   ],
   "source": [
    "function nodeToNum(node, n)\n",
    "   return node[1]*n+node[2];\n",
    "end"
   ]
  },
  {
   "cell_type": "code",
   "execution_count": 98,
   "id": "8ae6255a-6a31-4c0d-ac54-55fc3fef89e0",
   "metadata": {},
   "outputs": [
    {
     "data": {
      "text/plain": [
       "nodeToCoord (generic function with 1 method)"
      ]
     },
     "execution_count": 98,
     "metadata": {},
     "output_type": "execute_result"
    }
   ],
   "source": [
    "function nodeToCoord(node, spacing)\n",
    "   return spacing*node\n",
    "end"
   ]
  },
  {
   "cell_type": "code",
   "execution_count": 99,
   "id": "1333c83f-8e2b-41a4-a865-11d1dc7b2b7f",
   "metadata": {},
   "outputs": [
    {
     "data": {
      "text/plain": [
       "numToCoord (generic function with 1 method)"
      ]
     },
     "execution_count": 99,
     "metadata": {},
     "output_type": "execute_result"
    }
   ],
   "source": [
    "function numToCoord(num, n, spacing)\n",
    "    node_y = div.(num, n);\n",
    "    node_x = num.%n;\n",
    "    node = hcat(node_x, node_y);\n",
    "    return spacing*node;\n",
    "end"
   ]
  },
  {
   "cell_type": "code",
   "execution_count": 100,
   "id": "44d468a6-e5fc-4369-a1ab-fb54b082fa79",
   "metadata": {},
   "outputs": [
    {
     "data": {
      "text/plain": [
       "numToNode (generic function with 1 method)"
      ]
     },
     "execution_count": 100,
     "metadata": {},
     "output_type": "execute_result"
    }
   ],
   "source": [
    "function numToNode(num, n)\n",
    "    node_y = div.(num, n);\n",
    "    node_x = num.%n;\n",
    "    node = hcat(node_x, node_y);\n",
    "    return node;\n",
    "end"
   ]
  },
  {
   "cell_type": "code",
   "execution_count": 156,
   "id": "01305622-2739-4a89-b1da-afb620df9077",
   "metadata": {},
   "outputs": [
    {
     "data": {
      "text/plain": [
       "initializeParam (generic function with 1 method)"
      ]
     },
     "execution_count": 156,
     "metadata": {},
     "output_type": "execute_result"
    }
   ],
   "source": [
    "function initializeParam(n, spacing, m, k)\n",
    "    grid_size = n*n;\n",
    "       \n",
    "    # Check that values are whole numbers\n",
    "    if m <= 1\n",
    "        error(\"Increase m!\")\n",
    "    end\n",
    "    \n",
    "    # Check that values are whole numbers\n",
    "    if !isinteger(n) || !isinteger(m) || !isinteger(k)\n",
    "        error(\"Only integer values are allowed for n, m and k!\")\n",
    "    end\n",
    "        \n",
    "    # Check that number of ports and no-go zones does not exceed a certain percentage of grid size\n",
    "    fill_ratio = 0.25\n",
    "    if (k + m) >= fill_ratio*grid_size\n",
    "        error(\"Number of ports and no-go zones cannot exceed $(fill_ratio*100)% of grid size. Reinitialize numnber of ports!\")\n",
    "    end\n",
    "    \n",
    "    grid_data = [n, spacing, m, k];\n",
    "end"
   ]
  },
  {
   "cell_type": "code",
   "execution_count": 102,
   "id": "22d0d355-4f5f-46d4-9724-bd4266ca723a",
   "metadata": {},
   "outputs": [
    {
     "data": {
      "text/plain": [
       "randomizePorts (generic function with 1 method)"
      ]
     },
     "execution_count": 102,
     "metadata": {},
     "output_type": "execute_result"
    }
   ],
   "source": [
    "function randomizePorts(grid_data)\n",
    "### randomize location of all ports and no-go zones\n",
    "   \n",
    "    n = Int(grid_data[1]);\n",
    "    spacing = grid_data[2];\n",
    "    m = Int(grid_data[3]);\n",
    "    k = Int(grid_data[4]);\n",
    "\n",
    "    # assign nodes to ports and no-go zones\n",
    "    node = rand(0:n-1, m+k, 2);\n",
    "    coord = spacing*node;\n",
    "\n",
    "    port_coord = coord[1:m, :]\n",
    "    no_go_coord = coord[m+1:end, :];\n",
    "\n",
    "    # assign random port as port of origin\n",
    "    rand_idx = rand(1:m);\n",
    "    port_of_origin_coord = port_coord[rand_idx, :]\n",
    "\n",
    "    return port_coord, no_go_coord, port_of_origin_coord\n",
    "    \n",
    "end"
   ]
  },
  {
   "cell_type": "code",
   "execution_count": 103,
   "id": "d4b94192-92ce-48bf-b4df-3937649f1830",
   "metadata": {},
   "outputs": [
    {
     "data": {
      "text/plain": [
       "randomizePortsNoRepeat (generic function with 1 method)"
      ]
     },
     "execution_count": 103,
     "metadata": {},
     "output_type": "execute_result"
    }
   ],
   "source": [
    "function randomizePortsNoRepeat(grid_data)\n",
    "### randomize location of all ports and no-go zones\n",
    "   \n",
    "    n = Int(grid_data[1]);\n",
    "    spacing = grid_data[2];\n",
    "    m = Int(grid_data[3]);\n",
    "    k = Int(grid_data[4]);\n",
    "\n",
    "    total_nodes = n^2;\n",
    "    pool = 0:(total_nodes-1);\n",
    "\n",
    "    # assign nodes to ports and no-go zones\n",
    "    nums = sample(pool, m+k, replace=false);\n",
    "    port_num = nums[1:m, :];\n",
    "    no_go_num = nums[m+1:end, :];\n",
    "    \n",
    "    # node = hcat(node_x, node_y)\n",
    "    # coord = spacing*node;\n",
    "\n",
    "    # port_node = numToNode(port_num, n);\n",
    "    # port_coord = spacing*port_node;\n",
    "    # no_go_node = numToNode(no_go_num, n);\n",
    "    # no_go_coord = spacing*no_go_node;\n",
    "\n",
    "    # assign random port as port of origin\n",
    "    rand_idx = rand(1:m);\n",
    "    port_of_origin_num = port_num[rand_idx];\n",
    "    # port_of_origin_node = numToNode(port_of_origin_num, n);\n",
    "    # port_of_origin_coord = spacing*port_of_origin_node;\n",
    "\n",
    "    return port_num, port_of_origin_num, no_go_num\n",
    "    \n",
    "end"
   ]
  },
  {
   "cell_type": "code",
   "execution_count": 104,
   "id": "89e51298-fe93-469d-b1e1-2ee48615db5c",
   "metadata": {},
   "outputs": [
    {
     "data": {
      "text/plain": [
       "generatePortPriorities (generic function with 1 method)"
      ]
     },
     "execution_count": 104,
     "metadata": {},
     "output_type": "execute_result"
    }
   ],
   "source": [
    "function generatePortPriorities(port_num, port_of_origin_num)\n",
    "    visiting_ports = filter(p -> p != port_of_origin_num, port_num)\n",
    "    \n",
    "    port_priority = Dict{Int, Int}()\n",
    "    for (priority_idx, port) in enumerate(visiting_ports)\n",
    "        port_priority[port] = priority_idx\n",
    "    end\n",
    "\n",
    "    return port_priority\n",
    "end"
   ]
  },
  {
   "cell_type": "code",
   "execution_count": 105,
   "id": "d1882b45-c2c2-459f-a603-b8e3a1e68398",
   "metadata": {},
   "outputs": [
    {
     "data": {
      "text/plain": [
       "printVisitOrder (generic function with 1 method)"
      ]
     },
     "execution_count": 105,
     "metadata": {},
     "output_type": "execute_result"
    }
   ],
   "source": [
    "function printVisitOrder(port_num, port_of_origin_num, y_opt)\n",
    "    port_visit_order = []\n",
    "\n",
    "    for idx in 1:length(port_num)\n",
    "        port = port_num[idx]\n",
    "        if port != port_of_origin_num\n",
    "            push!(port_visit_order, (y_opt[idx], port))\n",
    "        end\n",
    "    end\n",
    "\n",
    "    # Sort by visit order (y_opt values)\n",
    "    sorted_ports = sort(port_visit_order, by=x->x[1])\n",
    "\n",
    "    println(\"\\n--- Port Visit Order ---\")\n",
    "    for (visit_num, port_id) in sorted_ports\n",
    "        println(\"Visit port \", port_id, \" at order \", visit_num)\n",
    "    end\n",
    "    println(\"------------------------\\n\")\n",
    "end\n"
   ]
  },
  {
   "cell_type": "markdown",
   "id": "01392865-7dc1-4182-8b8b-493a3ae280a2",
   "metadata": {},
   "source": [
    "### Case 1: Normal Case:"
   ]
  },
  {
   "cell_type": "code",
   "execution_count": 106,
   "id": "2c55fba5-c94f-4119-8730-724e2522dd11",
   "metadata": {},
   "outputs": [
    {
     "data": {
      "text/plain": [
       "visualizeGrid (generic function with 1 method)"
      ]
     },
     "execution_count": 106,
     "metadata": {},
     "output_type": "execute_result"
    }
   ],
   "source": [
    "function visualizeGrid(grid_data, port_num, port_of_origin_num, no_go_num, soln)\n",
    "    n = Int(grid_data[1]);\n",
    "    spacing = grid_data[2];\n",
    "    origin = [0, 0];\n",
    "\n",
    "    port_coord = numToCoord(port_num, n, spacing);\n",
    "    port_of_origin_coord = numToCoord(port_of_origin_num, n, spacing);\n",
    "    no_go_coord = numToCoord(no_go_num, n, spacing);\n",
    "\n",
    "    grid_size = n^2;\n",
    "\n",
    "    grid_points_x = [origin[1] + i*spacing for i in range(0, n-1)];\n",
    "    grid_points_y = [origin[2] + j*spacing for j in range(0, n-1)];\n",
    "\n",
    "    grid_points_x, grid_points_y = meshgrid(grid_points_x, grid_points_y);\n",
    "    # size(grid_points_mesh);\n",
    "\n",
    "    grid_points = hcat(grid_points_x, grid_points_y);\n",
    "    # grid_points = [grid_points_x, grid_points_y];\n",
    "    size(grid_points);\n",
    "\n",
    "    # plot\n",
    "    grid_color_RGB = [248, 131, 121]./255;\n",
    "    alpha_plot = 0.5;\n",
    "    fig_size = max((10,10),(n, n));\n",
    "    f = figure(figsize=(5, 5));\n",
    "    scatter(grid_points_x, grid_points_y, alpha = alpha_plot, color = grid_color_RGB, s = 20);\n",
    "    ax = gca();\n",
    "    ax.axis(\"equal\");\n",
    "    ax.axis(\"off\"); # hide axes spines/values\n",
    "\n",
    "    # plot port data\n",
    "    port_color_RGB = [25, 100, 50]./255;\n",
    "    alpha_port = 1;\n",
    "    scatter(port_coord[:, 1], port_coord[:, 2], alpha = alpha_port, color = port_color_RGB, marker = \"*\", s = 100);\n",
    "\n",
    "    # plot no_go data\n",
    "    no_go_color_RGB = [0, 0, 0]./255;\n",
    "    alpha_no_go = 1;\n",
    "    scatter(no_go_coord[:, 1], no_go_coord[:, 2], alpha = alpha_no_go, color = no_go_color_RGB, marker = \"x\", s = 80);\n",
    "\n",
    "    # plot port of origin\n",
    "    origin_port_color_RGB = [255, 87, 51]./255;\n",
    "    alpha_origin_port = 1;\n",
    "    scatter(port_of_origin_coord[1], port_of_origin_coord[2], alpha = alpha_origin_port, color = origin_port_color_RGB, marker = \"*\", s = 200);\n",
    "\n",
    "    if soln != 0\n",
    "        # plot edges\n",
    "        for i=0:grid_size-1\n",
    "            for j=0:grid_size-1\n",
    "                if soln[i+1, j+1] == 1\n",
    "                    # println(soln[i+1, j+1])\n",
    "                    line_start = numToCoord(i, n, spacing);\n",
    "                    line_end = numToCoord(j, n, spacing);\n",
    "\n",
    "                    # println(line_start);\n",
    "                    # println(line_end);\n",
    "    \n",
    "                    # plot([line_start[1], line_end[1]], [line_start[2], line_end[2]], \"r-\")\n",
    "                    arrow(line_start[1], line_start[2],  line_end[1]-line_start[1], line_end[2]- line_start[2], head_width=0.3, head_length=0.3, fc=\"lightyellow\", ec=\"black\")\n",
    "                end\n",
    "            end\n",
    "        end\n",
    "    end\n",
    "\n",
    "    # plot([0, 1], [1, 2], \"r-\")\n",
    "    return f \n",
    "end"
   ]
  },
  {
   "cell_type": "code",
   "execution_count": 107,
   "id": "dfbc6157-a80e-4d68-b953-37809bf17b40",
   "metadata": {},
   "outputs": [
    {
     "data": {
      "text/plain": [
       "optModelMinCost (generic function with 1 method)"
      ]
     },
     "execution_count": 107,
     "metadata": {},
     "output_type": "execute_result"
    }
   ],
   "source": [
    "function optModelMinCost(grid_data, port_num, port_of_origin_num, no_go_num, solver)\n",
    "    grid_size = n*n;\n",
    "    all_num = [i for i=0:grid_size-1];\n",
    "    all_else_num = setdiff(all_num, union(port_num, no_go_num))\n",
    "    # println(all_else_num)\n",
    "    \n",
    "    model = Model();\n",
    "    # @show \n",
    "    @variable(model, x[i = 0:grid_size-1, j = 0:grid_size-1], Bin);\n",
    "    # @show \n",
    "    @variable(model, z[i = 1:m], Bin);\n",
    "    \n",
    "    # MTZ to prevent loops\n",
    "    # defined for all nodes\n",
    "    @variable(model, u[i = 0:grid_size-1] >= 0);\n",
    "    @constraint(model, u[1] == 0) # for POO;\n",
    "    \n",
    "    # edge cost: euclidean norm\n",
    "    c = zeros(grid_size, grid_size);\n",
    "    \n",
    "    tol = 10^-5;\n",
    "    \n",
    "    cost = 0; \n",
    "    \n",
    "    idx=0;\n",
    "    # cost and same node flow\n",
    "    for i = 0:grid_size-1\n",
    "        sum_out_all_else = 0;\n",
    "        # println(i);\n",
    "    \n",
    "        for j = 0:grid_size-1\n",
    "            if i == j\n",
    "                # no flow\n",
    "                # @show \n",
    "                @constraint(model, x[i, j] == 0);\n",
    "            end\n",
    "    \n",
    "            @constraint(model, u[i]- u[j] + grid_size*x[i, j] <= grid_size - 1);\n",
    "    \n",
    "            # edge cost\n",
    "            c[i+1, j+1] = norm(numToCoord(i, n, spacing)- numToCoord(j, n, spacing));\n",
    "            cost += c[i+1, j+1]*x[i, j];\n",
    "    \n",
    "            # only allow travel to closest 8 points\n",
    "            # if numToNode(i, n)[1] !=0 || numToNode(i, n)[1] != n-1 || numToNode(i, n)[2] != 0 || numToNode(i, n)[2] != n-1\n",
    "            #         @constraint(model, \n",
    "            # end\n",
    "            \n",
    "            # all edges other than the eight closest ones are zero \n",
    "            if c[i+1, j+1] > (sqrt(2) + tol)\n",
    "                @constraint(model, x[i, j] == 0);\n",
    "            end\n",
    "            \n",
    "        end\n",
    "    \n",
    "        \n",
    "        \n",
    "    \n",
    "        # if !in(i, no_go_num)\n",
    "        #     @constraint(mode, u[i]- u[j] + grid_size*x[i, j] <= grid_size-1)\n",
    "        # end\n",
    "    end\n",
    "    \n",
    "    # port of origin\n",
    "    sum_in_POO = 0;\n",
    "    sum_out_POO = 0;\n",
    "    \n",
    "    for j = 0:grid_size-1\n",
    "        sum_out_POO += x[port_of_origin_num, j];\n",
    "        sum_in_POO += x[j, port_of_origin_num]; \n",
    "    end\n",
    "    \n",
    "    # @show \n",
    "    @constraint(model, sum_out_POO==1);\n",
    "    # @show \n",
    "    @constraint(model, sum_out_POO - sum_in_POO == 1);\n",
    "    \n",
    "    ## for other ports\n",
    "    # for if-then constraints\n",
    "    e = 1;\n",
    "    l = -1;\n",
    "    u = 2;\n",
    "    sum_terminal = 0;\n",
    "    \n",
    "    for p=1:length(port_num)\n",
    "        i = port_num[p];\n",
    "        if i!=port_of_origin_num\n",
    "            # println(i);\n",
    "            sum_in_port = 0;\n",
    "            sum_out_port = 0;\n",
    "    \n",
    "    \n",
    "    \n",
    "            for j = 0:grid_size-1\n",
    "                # port of origin\n",
    "                sum_out_port += x[i, j];\n",
    "                sum_in_port += x[j, i];\n",
    "    \n",
    "                # if flow from edge is 1, then no flow in the opposite direction\n",
    "                # @show \n",
    "                @constraint(model, x[i, j] + x[j, i] <= 1);\n",
    "               \n",
    "            end\n",
    "            \n",
    "            # @show \n",
    "            @constraint(model, sum_out_port >= l*z[p] +e*(1-z[p]));\n",
    "            # @show \n",
    "            @constraint(model, sum_out_port <= u*(1-z[p]));\n",
    "            # @show \n",
    "            @constraint(model, sum_in_port == 1);\n",
    "            # @constraint(model, sum_in_port >= 1);\n",
    "            # @show \n",
    "            @constraint(model, sum_out_port - sum_in_port <= 0);\n",
    "    \n",
    "            sum_terminal += z[p];\n",
    "        end\n",
    "    end\n",
    "    # @show \n",
    "    @constraint(model, sum_terminal == 1);\n",
    "    \n",
    "    \n",
    "    # for no-go zones\n",
    "    for g=1:length(no_go_num)\n",
    "        i = no_go_num[g];\n",
    "        \n",
    "        # println(i);\n",
    "        \n",
    "        sum_in_no_go = 0;\n",
    "        sum_out_no_go = 0;\n",
    "    \n",
    "        for j = 0:grid_size-1\n",
    "            # port of origin\n",
    "            sum_out_no_go += x[i, j];\n",
    "            sum_in_no_go += x[j, i];\n",
    "        \n",
    "           \n",
    "        end\n",
    "        # @show \n",
    "        @constraint(model, sum_out_no_go == 0);\n",
    "        # @show \n",
    "        @constraint(model, sum_in_no_go ==0);\n",
    "        \n",
    "    end\n",
    "    \n",
    "    # for all-else\n",
    "    for a=1:length(all_else_num)\n",
    "        i = all_else_num[a];\n",
    "        \n",
    "        # println(i);\n",
    "        \n",
    "        sum_out_all_else = 0;\n",
    "        sum_in_all_else = 0;\n",
    "    \n",
    "        for j = 0:grid_size-1\n",
    "            # port of origin\n",
    "            sum_out_all_else += x[i, j];\n",
    "            sum_in_all_else += x[j, i];\n",
    "    \n",
    "            # if flow from edge is 1, then no flow in the opposite direction\n",
    "            # @show \n",
    "            # @constraint(model, x[i, j] + x[j, i] <= 1);\n",
    "           \n",
    "        end\n",
    "        # @show \n",
    "        @constraint(model, sum_out_all_else - sum_in_all_else == 0);\n",
    "        \n",
    "    end\n",
    "    \n",
    "    #objective function\n",
    "    @objective(model, Min, cost);\n",
    "\n",
    "    set_optimizer(model, solver.Optimizer);\n",
    "    set_silent(model);\n",
    "    optimize!(model);\n",
    "\n",
    "    try\n",
    "        x_opt = JuMP.value.(x);\n",
    "        z_opt = JuMP.value.(z);\n",
    "        obj_opt = objective_value(model);\n",
    "        \n",
    "        println(termination_status(model));\n",
    "    \n",
    "        return x_opt, z_opt, obj_opt, model\n",
    "    catch\n",
    "    # else\n",
    "        error(\"Model did not optimize!\")\n",
    "    end\n",
    "\n",
    "end"
   ]
  },
  {
   "cell_type": "markdown",
   "id": "d1b50e3c-c706-417d-8a4d-5dab540a0db2",
   "metadata": {},
   "source": [
    "### Case 2: Soft Priority Constraints Case:"
   ]
  },
  {
   "cell_type": "code",
   "execution_count": 108,
   "id": "47eaa2cd-800e-4821-8b5d-d1b6c574ae7a",
   "metadata": {},
   "outputs": [
    {
     "data": {
      "text/plain": [
       "optModelMinCostWithPrioritiesSoft (generic function with 1 method)"
      ]
     },
     "execution_count": 108,
     "metadata": {},
     "output_type": "execute_result"
    }
   ],
   "source": [
    "function optModelMinCostWithPrioritiesSoft(grid_data, port_num, port_of_origin_num, no_go_num, solver, port_priority, λ)\n",
    "    n = Int(grid_data[1])\n",
    "    spacing = grid_data[2]\n",
    "    m = length(port_num)  # number of ports\n",
    "    grid_size = n * n\n",
    "\n",
    "    all_num = [i for i=0:grid_size-1]\n",
    "    all_else_num = setdiff(all_num, union(port_num, no_go_num))\n",
    "\n",
    "    model = Model()\n",
    "\n",
    "    @variable(model, x[i=0:grid_size-1, j=0:grid_size-1], Bin)\n",
    "    @variable(model, z[i=1:m], Bin)\n",
    "    @variable(model, u[i=0:grid_size-1] >= 0)\n",
    "    @constraint(model, u[port_of_origin_num] == 0)\n",
    "    \n",
    "    @variable(model, y[p=1:m], Int)      # visit order variable\n",
    "    @variable(model, s[p=1:m, q=1:m] >= 0)  # penalty slack variable\n",
    "\n",
    "\n",
    "    # Edge costs\n",
    "    c = zeros(grid_size, grid_size)\n",
    "    cost = 0\n",
    "\n",
    "    tol = 1e-5\n",
    "\n",
    "    for i = 0:grid_size-1\n",
    "        for j = 0:grid_size-1\n",
    "            if i == j\n",
    "                @constraint(model, x[i, j] == 0)\n",
    "            end\n",
    "\n",
    "            node_i = numToNode(i, n)\n",
    "            node_j = numToNode(j, n)\n",
    "\n",
    "            # Only allow nearest 8 neighbors\n",
    "            if abs(node_i[1] - node_j[1]) > 1 || abs(node_i[2] - node_j[2]) > 1\n",
    "                @constraint(model, x[i, j] == 0)\n",
    "            else\n",
    "                base_distance = norm(numToCoord(i, n, spacing) - numToCoord(j, n, spacing))\n",
    "                c[i+1, j+1] = base_distance\n",
    "                cost += c[i+1, j+1] * x[i, j]\n",
    "\n",
    "                # MTZ constraint for subtour elimination\n",
    "                @constraint(model, u[i] - u[j] + grid_size * x[i, j] <= grid_size - 1)\n",
    "            end\n",
    "        end\n",
    "    end\n",
    "\n",
    "    # Constraints for port of origin\n",
    "    sum_out_poo = sum(x[port_of_origin_num, j] for j=0:grid_size-1)\n",
    "    sum_in_poo = sum(x[j, port_of_origin_num] for j=0:grid_size-1)\n",
    "    @constraint(model, sum_out_poo == 1)\n",
    "    @constraint(model, sum_out_poo - sum_in_poo == 1)\n",
    "\n",
    "    # Constraints for other ports\n",
    "    sum_terminal = 0\n",
    "    for p=1:m\n",
    "        i = port_num[p]\n",
    "        if i != port_of_origin_num\n",
    "            sum_out_port = sum(x[i, j] for j=0:grid_size-1)\n",
    "            sum_in_port = sum(x[j, i] for j=0:grid_size-1)\n",
    "\n",
    "            @constraint(model, sum_out_port >= -1*z[p] + 1*(1-z[p]))\n",
    "            @constraint(model, sum_out_port <= 2*(1-z[p]))\n",
    "            @constraint(model, sum_in_port == 1)\n",
    "            @constraint(model, sum_out_port - sum_in_port <= 0)\n",
    "\n",
    "            sum_terminal += z[p]\n",
    "        end\n",
    "    end\n",
    "    @constraint(model, sum_terminal == 1)\n",
    "\n",
    "    # Constraints for no-go zones\n",
    "    for g=1:length(no_go_num)\n",
    "        i = no_go_num[g]\n",
    "        sum_in = sum(x[j, i] for j=0:grid_size-1)\n",
    "        sum_out = sum(x[i, j] for j=0:grid_size-1)\n",
    "        @constraint(model, sum_in == 0)\n",
    "        @constraint(model, sum_out == 0)\n",
    "    end\n",
    "\n",
    "    # Flow conservation for all other nodes\n",
    "    for a=1:length(all_else_num)\n",
    "        i = all_else_num[a]\n",
    "        sum_out = sum(x[i, j] for j=0:grid_size-1)\n",
    "        sum_in = sum(x[j, i] for j=0:grid_size-1)\n",
    "        @constraint(model, sum_out - sum_in == 0)\n",
    "    end\n",
    "\n",
    "    # Priority Order Penalty Constraints\n",
    "    for p=1:m\n",
    "        for q=1:m\n",
    "            #Only compare if both p and q are visiting ports (i.e. not the origin)\n",
    "            if port_num[p] != port_of_origin_num && port_num[q] != port_of_origin_num\n",
    "                if port_priority[port_num[p]] < port_priority[port_num[q]]\n",
    "                    @constraint(model, s[p, q] >= y[p] - y[q])\n",
    "                end\n",
    "            end\n",
    "        end\n",
    "    end\n",
    "\n",
    "\n",
    "    # Visit order must be valid\n",
    "    for p=1:m\n",
    "        @constraint(model, 1 <= y[p] <= m)\n",
    "    end\n",
    "\n",
    "    # Final objective: cost + lambda * penalty\n",
    "    @objective(model, Min, cost + λ * sum(\n",
    "    s[p, q] for p=1:m, q=1:m \n",
    "    if port_num[p] != port_of_origin_num && port_num[q] != port_of_origin_num &&\n",
    "       port_priority[port_num[p]] < port_priority[port_num[q]]\n",
    "    ))\n",
    "\n",
    "\n",
    "    set_optimizer(model, solver.Optimizer)\n",
    "    set_silent(model)\n",
    "    optimize!(model)\n",
    "\n",
    "    try\n",
    "        x_opt = JuMP.value.(x)\n",
    "        z_opt = JuMP.value.(z)\n",
    "        y_opt = JuMP.value.(y)\n",
    "        s_opt = JuMP.value.(s)\n",
    "        obj_opt = objective_value(model)\n",
    "\n",
    "        println(termination_status(model))\n",
    "\n",
    "        return x_opt, z_opt, y_opt, s_opt, obj_opt, model, c\n",
    "    catch\n",
    "        error(\"Model did not optimize!\")\n",
    "    end\n",
    "end\n"
   ]
  },
  {
   "cell_type": "code",
   "execution_count": 109,
   "id": "66a3fb42-1cf8-4067-87c9-d2779deefb65",
   "metadata": {},
   "outputs": [
    {
     "data": {
      "text/plain": [
       "visualizeGridWithPriorities (generic function with 1 method)"
      ]
     },
     "execution_count": 109,
     "metadata": {},
     "output_type": "execute_result"
    }
   ],
   "source": [
    "using PyPlot\n",
    "using Printf\n",
    "\n",
    "function visualizeGridWithPriorities(grid_data, port_num, port_of_origin_num, no_go_num, soln, port_priority)\n",
    "    clf()  # Clear previous plots\n",
    "\n",
    "    n = Int(grid_data[1])\n",
    "    spacing = grid_data[2]\n",
    "    origin = [0, 0]\n",
    "\n",
    "    port_coord = numToCoord(port_num, n, spacing)\n",
    "    port_of_origin_coord = numToCoord(port_of_origin_num, n, spacing)\n",
    "    no_go_coord = numToCoord(no_go_num, n, spacing)\n",
    "\n",
    "    grid_size = n^2\n",
    "\n",
    "    grid_points_x = [origin[1] + i*spacing for i in range(0, n-1)]\n",
    "    grid_points_y = [origin[2] + j*spacing for j in range(0, n-1)]\n",
    "    grid_points_x, grid_points_y = meshgrid(grid_points_x, grid_points_y)\n",
    "\n",
    "    # plot\n",
    "    grid_color_RGB = [248, 131, 121] ./ 255\n",
    "    alpha_plot = 0.5\n",
    "    fig_size = max((10,10), (n, n))\n",
    "    f = figure(figsize=(5, 5))\n",
    "    scatter(grid_points_x, grid_points_y, alpha=alpha_plot, color=grid_color_RGB, s=20)\n",
    "    ax = gca()\n",
    "    ax.axis(\"equal\")\n",
    "    ax.axis(\"off\")  # hide axes spines/values\n",
    "\n",
    "    # plot port data\n",
    "    port_color_RGB = [25, 100, 50] ./ 255\n",
    "    alpha_port = 1\n",
    "    scatter(port_coord[:, 1], port_coord[:, 2], alpha=alpha_port, color=port_color_RGB, marker=\"*\", s=100)\n",
    "\n",
    "    # Annotate priorities + port numbers above ports (except origin)\n",
    "    for idx in 1:length(port_num)\n",
    "        port_id = port_num[idx]\n",
    "        if haskey(port_priority, port_id)\n",
    "            x, y = port_coord[idx, 1], port_coord[idx, 2]\n",
    "            # Format: \"priority (port_id)\"\n",
    "            text(x, y + 0.5, @sprintf(\"%d (%d)\", port_priority[port_id], port_id),\n",
    "                 fontsize=8, ha=\"center\", va=\"bottom\", color=\"black\")\n",
    "        end\n",
    "    end\n",
    "\n",
    "    # plot no_go data\n",
    "    no_go_color_RGB = [0, 0, 0]\n",
    "    alpha_no_go = 1\n",
    "    scatter(no_go_coord[:, 1], no_go_coord[:, 2], alpha=alpha_no_go, color=no_go_color_RGB, marker=\"x\", s=80)\n",
    "\n",
    "    # plot port of origin (bigger and different color)\n",
    "    origin_port_color_RGB = [255, 87, 51] ./ 255\n",
    "    alpha_origin_port = 1\n",
    "    scatter(port_of_origin_coord[1], port_of_origin_coord[2], alpha=alpha_origin_port, color=origin_port_color_RGB, marker=\"*\", s=200)\n",
    "\n",
    "    # Optionally, label the port of origin as \"START\"\n",
    "    x_start, y_start = port_of_origin_coord[1], port_of_origin_coord[2]\n",
    "    text(x_start, y_start + 0.7, \"START\", fontsize=9, ha=\"center\", va=\"bottom\", color=\"red\")\n",
    "\n",
    "    if soln != 0\n",
    "        # plot solution edges\n",
    "        for i = 0:grid_size-1\n",
    "            for j = 0:grid_size-1\n",
    "                if soln[i+1, j+1] == 1\n",
    "                    line_start = numToCoord(i, n, spacing)\n",
    "                    line_end = numToCoord(j, n, spacing)\n",
    "\n",
    "                    arrow(line_start[1], line_start[2],\n",
    "                          line_end[1] - line_start[1], line_end[2] - line_start[2],\n",
    "                          head_width=0.3, head_length=0.3, alpha =0.5,\n",
    "                          fc=\"lightyellow\", ec=\"black\")\n",
    "                end\n",
    "            end\n",
    "        end\n",
    "    end\n",
    "\n",
    "    return f\n",
    "end\n"
   ]
  },
  {
   "cell_type": "markdown",
   "id": "626a7fcd-a44e-4ee5-87d7-8f1e87ed2d3c",
   "metadata": {},
   "source": [
    "### Case 3: Hard Priority Constraints Case:"
   ]
  },
  {
   "cell_type": "code",
   "execution_count": 154,
   "id": "c302514c-9cd8-4982-9e18-11f5e99c7089",
   "metadata": {},
   "outputs": [
    {
     "data": {
      "text/plain": [
       "optModelMinCostWithPrioritiesHard (generic function with 1 method)"
      ]
     },
     "execution_count": 154,
     "metadata": {},
     "output_type": "execute_result"
    }
   ],
   "source": [
    "function optModelMinCostWithPrioritiesHard(grid_data, port_num, port_of_origin_num, no_go_num, solver, port_priority)\n",
    "    n = Int(grid_data[1])\n",
    "    spacing = grid_data[2]\n",
    "    m = length(port_num)  # number of ports\n",
    "    grid_size = n * n\n",
    "\n",
    "    all_num = [i for i=0:grid_size-1]\n",
    "    all_else_num = setdiff(all_num, union(port_num, no_go_num))\n",
    "\n",
    "    model = Model()\n",
    "\n",
    "    @variable(model, x[i=0:grid_size-1, j=0:grid_size-1], Bin)\n",
    "    @variable(model, z[i=1:m], Bin)\n",
    "    @variable(model, u[i=0:grid_size-1] >= 0)\n",
    "    @constraint(model, u[port_of_origin_num] == 0)\n",
    "\n",
    "    @variable(model, y[p=1:m], Int)  # visit order variable\n",
    "\n",
    "    # Edge costs\n",
    "    c = zeros(grid_size, grid_size)\n",
    "    cost = 0\n",
    "\n",
    "    tol = 1e-5\n",
    "\n",
    "    for i = 0:grid_size-1\n",
    "        for j = 0:grid_size-1\n",
    "            if i == j\n",
    "                @constraint(model, x[i, j] == 0)\n",
    "            end\n",
    "\n",
    "            node_i = numToNode(i, n)\n",
    "            node_j = numToNode(j, n)\n",
    "\n",
    "            # Only allow nearest 8 neighbors\n",
    "            if abs(node_i[1] - node_j[1]) > 1 || abs(node_i[2] - node_j[2]) > 1\n",
    "                @constraint(model, x[i, j] == 0)\n",
    "            else\n",
    "                base_distance = norm(numToCoord(i, n, spacing) - numToCoord(j, n, spacing))\n",
    "                c[i+1, j+1] = base_distance\n",
    "                cost += c[i+1, j+1] * x[i, j]\n",
    "\n",
    "                # MTZ constraint for subtour elimination\n",
    "                @constraint(model, u[i] - u[j] + grid_size * x[i, j] <= grid_size - 1)\n",
    "            end\n",
    "        end\n",
    "    end\n",
    "\n",
    "    # Constraints for port of origin\n",
    "    sum_out_poo = sum(x[port_of_origin_num, j] for j=0:grid_size-1)\n",
    "    sum_in_poo = sum(x[j, port_of_origin_num] for j=0:grid_size-1)\n",
    "    @constraint(model, sum_out_poo == 1)\n",
    "    @constraint(model, sum_out_poo - sum_in_poo == 1)\n",
    "\n",
    "    # Constraints for other ports\n",
    "    sum_terminal = 0\n",
    "    for p=1:m\n",
    "        i = port_num[p]\n",
    "        if i != port_of_origin_num\n",
    "            sum_out_port = sum(x[i, j] for j=0:grid_size-1)\n",
    "            sum_in_port = sum(x[j, i] for j=0:grid_size-1)\n",
    "\n",
    "            @constraint(model, sum_out_port >= -1*z[p] + 1*(1-z[p]))\n",
    "            @constraint(model, sum_out_port <= 2*(1-z[p]))\n",
    "            @constraint(model, sum_in_port == 1)\n",
    "            @constraint(model, sum_out_port - sum_in_port <= 0)\n",
    "\n",
    "            sum_terminal += z[p]\n",
    "        end\n",
    "    end\n",
    "    @constraint(model, sum_terminal == 1)\n",
    "\n",
    "    # Constraints for no-go zones\n",
    "    for g=1:length(no_go_num)\n",
    "        i = no_go_num[g]\n",
    "        sum_in = sum(x[j, i] for j=0:grid_size-1)\n",
    "        sum_out = sum(x[i, j] for j=0:grid_size-1)\n",
    "        @constraint(model, sum_in == 0)\n",
    "        @constraint(model, sum_out == 0)\n",
    "    end\n",
    "\n",
    "    # Flow conservation for all other nodes\n",
    "    for a=1:length(all_else_num)\n",
    "        i = all_else_num[a]\n",
    "        sum_out = sum(x[i, j] for j=0:grid_size-1)\n",
    "        sum_in = sum(x[j, i] for j=0:grid_size-1)\n",
    "        @constraint(model, sum_out - sum_in == 0)\n",
    "    end\n",
    "\n",
    "    # HARD PRIORITY ORDER CONSTRAINTS\n",
    "    for p=1:m\n",
    "        for q=1:m\n",
    "            if port_num[p] != port_of_origin_num && port_num[q] != port_of_origin_num\n",
    "                if port_priority[port_num[p]] < port_priority[port_num[q]]\n",
    "                    @constraint(model, y[p] + 1 <= y[q])\n",
    "                end\n",
    "            end\n",
    "        end\n",
    "    end\n",
    "\n",
    "    # Visit order must be valid (between 1 and m-1)\n",
    "    for p=1:m\n",
    "        if port_num[p] != port_of_origin_num\n",
    "            @constraint(model, 1 <= y[p] <= m-1)\n",
    "        end\n",
    "    end\n",
    "\n",
    "    # Final Objective: Just minimize travel cost (no penalties)\n",
    "    @objective(model, Min, cost)\n",
    "\n",
    "    set_optimizer(model, solver.Optimizer)\n",
    "    set_silent(model)\n",
    "    optimize!(model)\n",
    "\n",
    "    try\n",
    "        x_opt = JuMP.value.(x)\n",
    "        z_opt = JuMP.value.(z)\n",
    "        y_opt = JuMP.value.(y)\n",
    "        obj_opt = objective_value(model)\n",
    "\n",
    "        println(termination_status(model))\n",
    "\n",
    "        return x_opt, z_opt, y_opt, obj_opt, model, c\n",
    "    catch\n",
    "        error(\"Model did not optimize!\")\n",
    "    end\n",
    "end\n"
   ]
  },
  {
   "cell_type": "markdown",
   "id": "98f1ffe1-3326-4467-808d-092b8db4fed4",
   "metadata": {},
   "source": [
    "## Minimize total distance travelled"
   ]
  },
  {
   "cell_type": "markdown",
   "id": "7c874993-5f20-4d4d-8b7b-ce536fd6b31a",
   "metadata": {},
   "source": [
    "### Case 1 Solution: (Normal)"
   ]
  },
  {
   "cell_type": "markdown",
   "id": "b5be5f1e-52f6-42db-b86d-4ffb8be026ee",
   "metadata": {},
   "source": [
    "#### Initialize parameters"
   ]
  },
  {
   "cell_type": "code",
   "execution_count": 146,
   "id": "f626441d-5c41-4b66-9613-877207239468",
   "metadata": {},
   "outputs": [
    {
     "data": {
      "image/png": "[encoded data removed]",
      "text/plain": [
       "Figure(PyObject <Figure size 500x500 with 1 Axes>)"
      ]
     },
     "metadata": {},
     "output_type": "display_data"
    }
   ],
   "source": [
    "### Grid setup\n",
    "# grid size (square)\n",
    "n = 10;\n",
    "spacing = 1; # always keep 1?\n",
    "\n",
    "### port information\n",
    "# number of ports on grid\n",
    "m = 14;\n",
    "\n",
    "### no-go zones\n",
    "k = 10;\n",
    "\n",
    "grid_data = initializeParam(n, spacing, m, k);\n",
    "port_num, port_of_origin_num, no_go_num = randomizePortsNoRepeat(grid_data)\n",
    "f = visualizeGrid(grid_data, port_num, port_of_origin_num, no_go_num, 0);"
   ]
  },
  {
   "cell_type": "markdown",
   "id": "02b542d1-3470-4a10-8187-bb4a48290956",
   "metadata": {},
   "source": [
    "#### Solve Model"
   ]
  },
  {
   "cell_type": "code",
   "execution_count": 147,
   "id": "98529cb6-0e36-43c5-afd4-efde5b017fc8",
   "metadata": {},
   "outputs": [
    {
     "name": "stdout",
     "output_type": "stream",
     "text": [
      "Set parameter Username\n",
      "Set parameter LicenseID to value 2656577\n",
      "Academic license - for non-commercial use only - expires 2026-04-24\n",
      "OPTIMAL\n",
      "(100, 100)\n"
     ]
    },
    {
     "data": {
      "image/png": "[encoded data removed]",
      "text/plain": [
       "Figure(PyObject <Figure size 500x500 with 1 Axes>)"
      ]
     },
     "metadata": {},
     "output_type": "display_data"
    }
   ],
   "source": [
    "solver = Gurobi;\n",
    "x_opt, z_opt, obj_opt = optModelMinCost(grid_data, port_num, port_of_origin_num, no_go_num, solver);\n",
    "\n",
    "println(size(x_opt));\n",
    "f = visualizeGrid(grid_data, port_num, port_of_origin_num, no_go_num, x_opt.data);"
   ]
  },
  {
   "cell_type": "markdown",
   "id": "b0921366-b8e6-460c-bf67-2a52655514c3",
   "metadata": {},
   "source": [
    "### Case 2 Solution: (Soft Priority Constraints)"
   ]
  },
  {
   "cell_type": "markdown",
   "id": "5f2d2776-832a-44ff-89a9-703eb16a553c",
   "metadata": {},
   "source": [
    "#### Solve Model"
   ]
  },
  {
   "cell_type": "code",
   "execution_count": 148,
   "id": "c75d9b0a-0cec-4c44-bdc3-4696db2dde91",
   "metadata": {},
   "outputs": [
    {
     "name": "stdout",
     "output_type": "stream",
     "text": [
      "Set parameter Username\n",
      "Set parameter LicenseID to value 2656577\n",
      "Academic license - for non-commercial use only - expires 2026-04-24\n",
      "OPTIMAL\n",
      "(100, 100)\n"
     ]
    },
    {
     "data": {
      "image/png": "[encoded data removed]",
      "text/plain": [
       "Figure(PyObject <Figure size 500x500 with 1 Axes>)"
      ]
     },
     "metadata": {},
     "output_type": "display_data"
    }
   ],
   "source": [
    "solver = Gurobi\n",
    "\n",
    "#Generating priorities dynamically:\n",
    "port_priority = generatePortPriorities(port_num, port_of_origin_num)\n",
    "#Penalty term:\n",
    "λ = 1000000000000\n",
    "\n",
    "x_opt, z_opt, y_opt, s_opt, obj_opt, model, c = optModelMinCostWithPrioritiesSoft(\n",
    "    grid_data, port_num, port_of_origin_num, no_go_num, solver, port_priority, λ\n",
    ")\n",
    "\n",
    "println(size(x_opt))\n",
    "f = visualizeGridWithPriorities(\n",
    "    grid_data, port_num, port_of_origin_num, no_go_num, x_opt.data, port_priority\n",
    ")\n",
    "show()"
   ]
  },
  {
   "cell_type": "code",
   "execution_count": 149,
   "id": "144bebba-1fd6-4a44-9f15-ebbfae83c555",
   "metadata": {},
   "outputs": [
    {
     "name": "stdout",
     "output_type": "stream",
     "text": [
      "\n",
      "--- Port Visit Order ---\n",
      "Visit port 86 at order 1.0\n",
      "Visit port 49 at order 1.0\n",
      "Visit port 26 at order 1.0\n",
      "Visit port 76 at order 1.0\n",
      "Visit port 39 at order 1.0\n",
      "Visit port 14 at order 1.0\n",
      "Visit port 60 at order 1.0\n",
      "Visit port 36 at order 14.0\n",
      "Visit port 35 at order 14.0\n",
      "Visit port 65 at order 14.0\n",
      "Visit port 68 at order 14.0\n",
      "Visit port 38 at order 14.0\n",
      "Visit port 74 at order 14.0\n",
      "------------------------\n",
      "\n"
     ]
    }
   ],
   "source": [
    "printVisitOrder(port_num, port_of_origin_num, y_opt)"
   ]
  },
  {
   "cell_type": "markdown",
   "id": "3fe4fc5e-ef4f-4441-8cb9-50a2f2d3af24",
   "metadata": {},
   "source": [
    "### Case 3 Solution: (Hard Priority Constraints)"
   ]
  },
  {
   "cell_type": "code",
   "execution_count": 155,
   "id": "6369f273-99f7-4d32-844d-a7d8dfd6f397",
   "metadata": {},
   "outputs": [
    {
     "name": "stdout",
     "output_type": "stream",
     "text": [
      "Set parameter Username\n",
      "Set parameter LicenseID to value 2656577\n",
      "Academic license - for non-commercial use only - expires 2026-04-24\n",
      "OPTIMAL\n",
      "(100, 100)\n"
     ]
    },
    {
     "data": {
      "image/png": "[encoded data removed]",
      "text/plain": [
       "Figure(PyObject <Figure size 500x500 with 1 Axes>)"
      ]
     },
     "metadata": {},
     "output_type": "display_data"
    }
   ],
   "source": [
    "port_priority = generatePortPriorities(port_num, port_of_origin_num)\n",
    "\n",
    "x_opt, z_opt, y_opt, obj_opt, model, c = optModelMinCostWithPrioritiesHard(\n",
    "    grid_data, port_num, port_of_origin_num, no_go_num, solver, port_priority\n",
    ")\n",
    "println(size(x_opt))\n",
    "f = visualizeGridWithPriorities(\n",
    "    grid_data, port_num, port_of_origin_num, no_go_num, x_opt.data, port_priority\n",
    ")\n",
    "show()"
   ]
  },
  {
   "cell_type": "code",
   "execution_count": 151,
   "id": "238cc531-91c3-4d79-b331-bc335efff4b6",
   "metadata": {},
   "outputs": [
    {
     "name": "stdout",
     "output_type": "stream",
     "text": [
      "\n",
      "--- Port Visit Order ---\n",
      "Visit port 86 at order 1.0\n",
      "Visit port 49 at order 2.0\n",
      "Visit port 26 at order 3.0\n",
      "Visit port 76 at order 4.0\n",
      "Visit port 39 at order 5.0\n",
      "Visit port 14 at order 6.0\n",
      "Visit port 60 at order 7.0\n",
      "Visit port 36 at order 8.0\n",
      "Visit port 35 at order 9.0\n",
      "Visit port 65 at order 10.0\n",
      "Visit port 68 at order 11.0\n",
      "Visit port 38 at order 12.0\n",
      "Visit port 74 at order 13.0\n",
      "------------------------\n",
      "\n"
     ]
    }
   ],
   "source": [
    "printVisitOrder(port_num, port_of_origin_num, y_opt)"
   ]
  },
  {
   "cell_type": "code",
   "execution_count": null,
   "id": "b56e4d75-8f46-4421-84aa-18d3466a8762",
   "metadata": {},
   "outputs": [],
   "source": []
  }
 ],
 "metadata": {
  "kernelspec": {
   "display_name": "Julia 1.11.3",
   "language": "julia",
   "name": "julia-1.11"
  },
  "language_info": {
   "file_extension": ".jl",
   "mimetype": "application/julia",
   "name": "julia",
   "version": "1.11.3"
  }
 },
 "nbformat": 4,
 "nbformat_minor": 5
}
