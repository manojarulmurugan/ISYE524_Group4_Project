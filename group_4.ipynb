{
 "cells": [
  {
   "cell_type": "markdown",
   "id": "847d448c-d46b-4626-af0b-6f83e298e553",
   "metadata": {},
   "source": [
    "# Project Report for Group 4"
   ]
  },
  {
   "cell_type": "markdown",
   "id": "b9b04a10-c251-42d7-a6ec-bc925cbf7ed7",
   "metadata": {},
   "source": [
    "## Ship Route Optimization"
   ]
  },
  {
   "cell_type": "markdown",
   "id": "4c8666d9-942a-49b1-aba2-67c57167c626",
   "metadata": {},
   "source": [
    "What?\n",
    "What is the scope of work\n",
    "\n",
    "Mathematical model"
   ]
  },
  {
   "cell_type": "code",
   "execution_count": 1,
   "id": "6e35688b-c25f-4d31-b6be-341c7bc527af",
   "metadata": {},
   "outputs": [],
   "source": [
    "### Add packages here\n",
    "# using Pkg\n",
    "# # Pkg.add(\"StatsBase\")\n",
    "# Pkg.add(\"Juniper\")"
   ]
  },
  {
   "cell_type": "code",
   "execution_count": 2,
   "id": "a2d859d7-4af6-4f7b-af8a-a74c12d4c33d",
   "metadata": {},
   "outputs": [],
   "source": [
    "using PyPlot, MeshGrid, StatsBase, LinearAlgebra"
   ]
  },
  {
   "cell_type": "code",
   "execution_count": 3,
   "id": "d4f212ca-b39e-42cd-8d89-76336774df55",
   "metadata": {},
   "outputs": [],
   "source": [
    "using JuMP, GLPK, COSMO, Gurobi, Juniper, Ipopt"
   ]
  },
  {
   "cell_type": "markdown",
   "id": "a54d7c2e-51b4-4569-80ea-7b1a5a7f5056",
   "metadata": {},
   "source": [
    "### Helper Functions"
   ]
  },
  {
   "cell_type": "code",
   "execution_count": 4,
   "id": "71aff5c5-8d18-4d0c-a02d-cac6af2ef304",
   "metadata": {},
   "outputs": [
    {
     "data": {
      "text/plain": [
       "nodeToNum (generic function with 1 method)"
      ]
     },
     "execution_count": 4,
     "metadata": {},
     "output_type": "execute_result"
    }
   ],
   "source": [
    "function nodeToNum(node, n)\n",
    "   return node[1]*n+node[2];\n",
    "end"
   ]
  },
  {
   "cell_type": "code",
   "execution_count": 5,
   "id": "8ae6255a-6a31-4c0d-ac54-55fc3fef89e0",
   "metadata": {},
   "outputs": [
    {
     "data": {
      "text/plain": [
       "nodeToCoord (generic function with 1 method)"
      ]
     },
     "execution_count": 5,
     "metadata": {},
     "output_type": "execute_result"
    }
   ],
   "source": [
    "function nodeToCoord(node, spacing)\n",
    "   return spacing*node\n",
    "end"
   ]
  },
  {
   "cell_type": "code",
   "execution_count": 6,
   "id": "1333c83f-8e2b-41a4-a865-11d1dc7b2b7f",
   "metadata": {},
   "outputs": [
    {
     "data": {
      "text/plain": [
       "numToCoord (generic function with 1 method)"
      ]
     },
     "execution_count": 6,
     "metadata": {},
     "output_type": "execute_result"
    }
   ],
   "source": [
    "function numToCoord(num, n, spacing)\n",
    "    node_y = div.(num, n);\n",
    "    node_x = num.%n;\n",
    "    node = hcat(node_x, node_y);\n",
    "    return spacing*node;\n",
    "end"
   ]
  },
  {
   "cell_type": "code",
   "execution_count": 7,
   "id": "44d468a6-e5fc-4369-a1ab-fb54b082fa79",
   "metadata": {},
   "outputs": [
    {
     "data": {
      "text/plain": [
       "numToNode (generic function with 1 method)"
      ]
     },
     "execution_count": 7,
     "metadata": {},
     "output_type": "execute_result"
    }
   ],
   "source": [
    "function numToNode(num, n)\n",
    "    node_y = div.(num, n);\n",
    "    node_x = num.%n;\n",
    "    node = hcat(node_x, node_y);\n",
    "    return node;\n",
    "end"
   ]
  },
  {
   "cell_type": "code",
   "execution_count": 8,
   "id": "01305622-2739-4a89-b1da-afb620df9077",
   "metadata": {},
   "outputs": [
    {
     "data": {
      "text/plain": [
       "initializeParam (generic function with 2 methods)"
      ]
     },
     "execution_count": 8,
     "metadata": {},
     "output_type": "execute_result"
    }
   ],
   "source": [
    "function initializeParam(n, spacing, m, k, fill_ratio = 0.25)\n",
    "    grid_size = n*n;\n",
    "       \n",
    "    # Check that values are whole numbers\n",
    "    if m <= 1\n",
    "        error(\"Increase m!\")\n",
    "    end\n",
    "    \n",
    "    # Check that values are whole numbers\n",
    "    if !isinteger(n) || !isinteger(m) || !isinteger(k)\n",
    "        error(\"Only integer values are allowed for n, m and k!\")\n",
    "    end\n",
    "        \n",
    "    # Check that number of ports and no-go zones does not exceed a certain percentage of grid size\n",
    "    if (k + m) >= fill_ratio*grid_size\n",
    "        error(\"Number of ports and no-go zones cannot exceed $(fill_ratio*100)% of grid size. Reinitialize numnber of ports!\")\n",
    "    end\n",
    "    \n",
    "    grid_data = [n, spacing, m, k];\n",
    "end"
   ]
  },
  {
   "cell_type": "code",
   "execution_count": 9,
   "id": "22d0d355-4f5f-46d4-9724-bd4266ca723a",
   "metadata": {},
   "outputs": [
    {
     "data": {
      "text/plain": [
       "randomizePorts (generic function with 1 method)"
      ]
     },
     "execution_count": 9,
     "metadata": {},
     "output_type": "execute_result"
    }
   ],
   "source": [
    "function randomizePorts(grid_data)\n",
    "### randomize location of all ports and no-go zones\n",
    "   \n",
    "    n = Int(grid_data[1]);\n",
    "    spacing = grid_data[2];\n",
    "    m = Int(grid_data[3]);\n",
    "    k = Int(grid_data[4]);\n",
    "\n",
    "    # assign nodes to ports and no-go zones\n",
    "    node = rand(0:n-1, m+k, 2);\n",
    "    coord = spacing*node;\n",
    "\n",
    "    port_coord = coord[1:m, :]\n",
    "    no_go_coord = coord[m+1:end, :];\n",
    "\n",
    "    # assign random port as port of origin\n",
    "    rand_idx = rand(1:m);\n",
    "    port_of_origin_coord = port_coord[rand_idx, :]\n",
    "\n",
    "    return port_coord, no_go_coord, port_of_origin_coord\n",
    "    \n",
    "end"
   ]
  },
  {
   "cell_type": "code",
   "execution_count": 10,
   "id": "d4b94192-92ce-48bf-b4df-3937649f1830",
   "metadata": {},
   "outputs": [
    {
     "data": {
      "text/plain": [
       "randomizePortsNoRepeat (generic function with 1 method)"
      ]
     },
     "execution_count": 10,
     "metadata": {},
     "output_type": "execute_result"
    }
   ],
   "source": [
    "function randomizePortsNoRepeat(grid_data)\n",
    "### randomize location of all ports and no-go zones\n",
    "   \n",
    "    n = Int(grid_data[1]);\n",
    "    spacing = grid_data[2];\n",
    "    m = Int(grid_data[3]);\n",
    "    k = Int(grid_data[4]);\n",
    "\n",
    "    total_nodes = n^2;\n",
    "    pool = 0:(total_nodes-1);\n",
    "\n",
    "    # assign nodes to ports and no-go zones\n",
    "    nums = sample(pool, m+k, replace=false);\n",
    "    port_num = nums[1:m, :];\n",
    "    no_go_num = nums[m+1:end, :];\n",
    "    \n",
    "    # node = hcat(node_x, node_y)\n",
    "    # coord = spacing*node;\n",
    "\n",
    "    # port_node = numToNode(port_num, n);\n",
    "    # port_coord = spacing*port_node;\n",
    "    # no_go_node = numToNode(no_go_num, n);\n",
    "    # no_go_coord = spacing*no_go_node;\n",
    "\n",
    "    # assign random port as port of origin\n",
    "    rand_idx = rand(1:m);\n",
    "    port_of_origin_num = port_num[rand_idx];\n",
    "    # port_of_origin_node = numToNode(port_of_origin_num, n);\n",
    "    # port_of_origin_coord = spacing*port_of_origin_node;\n",
    "\n",
    "    return port_num, port_of_origin_num, no_go_num\n",
    "    \n",
    "end"
   ]
  },
  {
   "cell_type": "code",
   "execution_count": 11,
   "id": "2c55fba5-c94f-4119-8730-724e2522dd11",
   "metadata": {},
   "outputs": [
    {
     "data": {
      "text/plain": [
       "visualizeGrid (generic function with 1 method)"
      ]
     },
     "execution_count": 11,
     "metadata": {},
     "output_type": "execute_result"
    }
   ],
   "source": [
    "function visualizeGrid(grid_data, port_num, port_of_origin_num, no_go_num, soln)\n",
    "    n = Int(grid_data[1]);\n",
    "    spacing = grid_data[2];\n",
    "    origin = [0, 0];\n",
    "\n",
    "    port_coord = numToCoord(port_num, n, spacing);\n",
    "    port_of_origin_coord = numToCoord(port_of_origin_num, n, spacing);\n",
    "    no_go_coord = numToCoord(no_go_num, n, spacing);\n",
    "\n",
    "    grid_size = n^2;\n",
    "\n",
    "    grid_points_x = [origin[1] + i*spacing for i in range(0, n-1)];\n",
    "    grid_points_y = [origin[2] + j*spacing for j in range(0, n-1)];\n",
    "\n",
    "    grid_points_x, grid_points_y = meshgrid(grid_points_x, grid_points_y);\n",
    "    # size(grid_points_mesh);\n",
    "\n",
    "    grid_points = hcat(grid_points_x, grid_points_y);\n",
    "    # grid_points = [grid_points_x, grid_points_y];\n",
    "    size(grid_points);\n",
    "\n",
    "    # plot\n",
    "    grid_color_RGB = [248, 131, 121]./255;\n",
    "    alpha_plot = 0.5;\n",
    "    fig_size = max((10,10),(n, n));\n",
    "    f = figure(figsize=(5, 5));\n",
    "    scatter(grid_points_x, grid_points_y, alpha = alpha_plot, color = grid_color_RGB, s = 20);\n",
    "    ax = gca();\n",
    "    ax.axis(\"equal\");\n",
    "    ax.axis(\"off\"); # hide axes spines/values\n",
    "\n",
    "    # plot port data\n",
    "    port_color_RGB = [25, 100, 50]./255;\n",
    "    alpha_port = 1;\n",
    "    scatter(port_coord[:, 1], port_coord[:, 2], alpha = alpha_port, color = port_color_RGB, marker = \"o\", s = 100);\n",
    "\n",
    "    # plot no_go data\n",
    "    no_go_color_RGB = [0, 0, 0]./255;\n",
    "    alpha_no_go = 1;\n",
    "    scatter(no_go_coord[:, 1], no_go_coord[:, 2], alpha = alpha_no_go, color = no_go_color_RGB, marker = \"x\", s = 150);\n",
    "\n",
    "    # plot port of origin\n",
    "    origin_port_color_RGB = [255, 87, 51]./255;\n",
    "    alpha_origin_port = 1;\n",
    "    scatter(port_of_origin_coord[1], port_of_origin_coord[2], alpha = alpha_origin_port, color = origin_port_color_RGB, marker = \"*\", s = 200);\n",
    "\n",
    "    if soln != 0\n",
    "        # plot edges\n",
    "        for i=0:grid_size-1\n",
    "            for j=0:grid_size-1\n",
    "                if soln[i+1, j+1] == 1\n",
    "                    # println(soln[i+1, j+1])\n",
    "                    line_start = numToCoord(i, n, spacing);\n",
    "                    line_end = numToCoord(j, n, spacing);\n",
    "\n",
    "                    # println(line_start);\n",
    "                    # println(line_end);\n",
    "    \n",
    "                    # plot([line_start[1], line_end[1]], [line_start[2], line_end[2]], \"r-\")\n",
    "                    arrow(line_start[1], line_start[2],  line_end[1]-line_start[1], line_end[2]- line_start[2], head_width=0.2, head_length=0.2, fc=\"lightyellow\", ec=\"orange\")\n",
    "                end\n",
    "            end\n",
    "        end\n",
    "    end\n",
    "\n",
    "    # plot([0, 1], [1, 2], \"r-\")\n",
    "    return f \n",
    "end"
   ]
  },
  {
   "cell_type": "markdown",
   "id": "98f1ffe1-3326-4467-808d-092b8db4fed4",
   "metadata": {},
   "source": [
    "## Minimize total distance travelled"
   ]
  },
  {
   "cell_type": "code",
   "execution_count": 12,
   "id": "dfbc6157-a80e-4d68-b953-37809bf17b40",
   "metadata": {},
   "outputs": [
    {
     "data": {
      "text/plain": [
       "optModelMinCost (generic function with 1 method)"
      ]
     },
     "execution_count": 12,
     "metadata": {},
     "output_type": "execute_result"
    }
   ],
   "source": [
    "function optModelMinCost(grid_data, port_num, port_of_origin_num, no_go_num, solver)\n",
    "    grid_size = n*n;\n",
    "\n",
    "    # nodes other than ports and no-go zones\n",
    "    all_num = [i for i=0:grid_size-1];\n",
    "    all_else_num = setdiff(all_num, union(port_num, no_go_num))\n",
    "    # println(all_else_num)\n",
    "    \n",
    "    model = Model();\n",
    "    # all edges from a node to all other nodes\n",
    "    # @show \n",
    "    @variable(model, x[i = 0:grid_size-1, j = 0:grid_size-1], Bin);\n",
    "    # @show \n",
    "    @variable(model, z[i = 1:m], Bin);\n",
    "    \n",
    "    # MTZ to prevent loops\n",
    "    # defined for all nodes\n",
    "    # u is a continuous variable initialized at the port of origin to be 0\n",
    "    @variable(model, u[i = 0:grid_size-1] >= 0);\n",
    "    @constraint(model, u[1] == 0) # for POO;\n",
    "    \n",
    "    # edge cost: euclidean norm\n",
    "    c = zeros(grid_size, grid_size);\n",
    "    \n",
    "    tol = 10^-5;\n",
    "\n",
    "    # Total cost\n",
    "    cost = 0; \n",
    "    \n",
    "    # idx=0;\n",
    "    \n",
    "    # cost and same node flow\n",
    "    for i = 0:grid_size-1\n",
    "        # println(i);\n",
    "    \n",
    "        for j = 0:grid_size-1\n",
    "            if i == j\n",
    "                # no flow\n",
    "                # @show \n",
    "                @constraint(model, x[i, j] == 0);\n",
    "            end\n",
    "\n",
    "            # MTZ constraint\n",
    "            @constraint(model, u[i]- u[j] + grid_size*x[i, j] <= grid_size - 1);\n",
    "    \n",
    "            # edge cost\n",
    "            c[i+1, j+1] = norm(numToCoord(i, n, spacing)- numToCoord(j, n, spacing));\n",
    "            cost += c[i+1, j+1]*x[i, j];\n",
    "              \n",
    "            # all edges other than the eight closest ones are zero \n",
    "            if c[i+1, j+1] > (sqrt(2) + tol)\n",
    "                @constraint(model, x[i, j] == 0);\n",
    "            end    \n",
    "        end   \n",
    "    end\n",
    "    \n",
    "    # port of origin\n",
    "    sum_in_POO = 0;\n",
    "    sum_out_POO = 0;\n",
    "    \n",
    "    for j = 0:grid_size-1\n",
    "        sum_out_POO += x[port_of_origin_num, j];\n",
    "        sum_in_POO += x[j, port_of_origin_num]; \n",
    "    end\n",
    "    \n",
    "    # @show \n",
    "    @constraint(model, sum_out_POO==1);\n",
    "    # @show \n",
    "    @constraint(model, sum_out_POO - sum_in_POO == 1); # or sum in == 0\n",
    "    \n",
    "    ## for other ports\n",
    "    # for if-then constraints\n",
    "    e = 1;\n",
    "    l = -1;\n",
    "    u = 2;\n",
    "    sum_terminal = 0;\n",
    "    \n",
    "    for p=1:length(port_num)\n",
    "        i = port_num[p];\n",
    "        if i!=port_of_origin_num\n",
    "            # println(i);\n",
    "            sum_in_port = 0;\n",
    "            sum_out_port = 0;\n",
    "    \n",
    "            for j = 0:grid_size-1\n",
    "                # port of origin\n",
    "                sum_out_port += x[i, j];\n",
    "                sum_in_port += x[j, i];\n",
    "    \n",
    "                # if flow from edge is 1, then no flow in the opposite direction\n",
    "                # @show \n",
    "                @constraint(model, x[i, j] + x[j, i] <= 1);\n",
    "               \n",
    "            end\n",
    "\n",
    "            ## if-then constraints\n",
    "            # @show \n",
    "            # @constraint(model, sum_out_port >= l*z[p] +e*(1-z[p]));\n",
    "            # @show \n",
    "            # @constraint(model, sum_out_port <= u*(1-z[p]));\n",
    "            # @show \n",
    "            @constraint(model, sum_in_port == 1);\n",
    "            # @constraint(model, sum_in_port >= 1);\n",
    "            # @show \n",
    "            @constraint(model, sum_out_port - sum_in_port <= 0);\n",
    "    \n",
    "            # sum_terminal += z[p];\n",
    "        end\n",
    "    end\n",
    "    # @show \n",
    "    # @constraint(model, sum_terminal == 1);\n",
    "    \n",
    "    \n",
    "    # for no-go zones\n",
    "    for g=1:length(no_go_num)\n",
    "        i = no_go_num[g];\n",
    "        \n",
    "        # println(i);\n",
    "        \n",
    "        sum_in_no_go = 0;\n",
    "        sum_out_no_go = 0;\n",
    "    \n",
    "        for j = 0:grid_size-1\n",
    "            # port of origin\n",
    "            sum_out_no_go += x[i, j];\n",
    "            sum_in_no_go += x[j, i];\n",
    "        \n",
    "           \n",
    "        end\n",
    "        # @show \n",
    "        @constraint(model, sum_out_no_go == 0);\n",
    "        # @show \n",
    "        @constraint(model, sum_in_no_go == 0);\n",
    "        \n",
    "    end\n",
    "    \n",
    "    # for all-else\n",
    "    for a=1:length(all_else_num)\n",
    "        i = all_else_num[a];\n",
    "        \n",
    "        # println(i);\n",
    "        \n",
    "        sum_out_all_else = 0;\n",
    "        sum_in_all_else = 0;\n",
    "    \n",
    "        for j = 0:grid_size-1\n",
    "            # port of origin\n",
    "            sum_out_all_else += x[i, j];\n",
    "            sum_in_all_else += x[j, i];\n",
    "    \n",
    "            # if flow from edge is 1, then no flow in the opposite direction\n",
    "            # @show \n",
    "            # @constraint(model, x[i, j] + x[j, i] <= 1);\n",
    "           \n",
    "        end\n",
    "        # @show \n",
    "        @constraint(model, sum_out_all_else - sum_in_all_else == 0);\n",
    "        \n",
    "    end\n",
    "    \n",
    "    #objective function\n",
    "    @objective(model, Min, cost);\n",
    "\n",
    "    set_optimizer(model, solver.Optimizer);\n",
    "    set_silent(model);\n",
    "    optimize!(model);\n",
    "\n",
    "    println(termination_status(model));\n",
    "\n",
    "    try\n",
    "        x_opt = JuMP.value.(x);\n",
    "        z_opt = JuMP.value.(z);\n",
    "        obj_opt = objective_value(model);\n",
    "        \n",
    "        return x_opt, z_opt, obj_opt, model\n",
    "    catch\n",
    "    # else\n",
    "        error(\"Model did not optimize!\")\n",
    "    end\n",
    "\n",
    "end"
   ]
  },
  {
   "cell_type": "markdown",
   "id": "27357efb-c494-4774-8841-2b73bfb47f43",
   "metadata": {},
   "source": [
    "## Allow ship to pass through no-go zones but assign penalty"
   ]
  },
  {
   "cell_type": "code",
   "execution_count": 13,
   "id": "48852239-63c5-4158-b75b-5d4ed434c634",
   "metadata": {},
   "outputs": [
    {
     "data": {
      "text/plain": [
       "optModelAllowNoGo (generic function with 1 method)"
      ]
     },
     "execution_count": 13,
     "metadata": {},
     "output_type": "execute_result"
    }
   ],
   "source": [
    "function optModelAllowNoGo(grid_data, port_num, port_of_origin_num, no_go_num, penalty_factor, solver)\n",
    "    grid_size = n*n;\n",
    "\n",
    "    # nodes other than ports and no-go zones\n",
    "    all_num = [i for i=0:grid_size-1];\n",
    "    all_else_num = setdiff(all_num, union(port_num, no_go_num))\n",
    "    # println(all_else_num)\n",
    "    \n",
    "    model = Model();\n",
    "    # all edges from a node to all other nodes\n",
    "    # @show \n",
    "    @variable(model, x[i = 0:grid_size-1, j = 0:grid_size-1], Bin);\n",
    "    # @show \n",
    "    @variable(model, z[i = 1:m], Bin);\n",
    "    \n",
    "    # MTZ to prevent loops\n",
    "    # defined for all nodes\n",
    "    # u is a continuous variable initialized at the port of origin to be 0\n",
    "    @variable(model, u[i = 0:grid_size-1] >= 0);\n",
    "    @constraint(model, u[1] == 0) # for POO;\n",
    "    \n",
    "    # edge cost: euclidean norm\n",
    "    norm_dist = zeros(grid_size, grid_size);\n",
    "    c = zeros(grid_size, grid_size);\n",
    "    \n",
    "    tol = 10^-5;\n",
    "    \n",
    "    cost = 0; \n",
    "    \n",
    "    # idx=0;\n",
    "    # cost and same node flow\n",
    "    for i = 0:grid_size-1\n",
    "        # println(i);\n",
    "    \n",
    "        for j = 0:grid_size-1\n",
    "            if i == j\n",
    "                # no flow\n",
    "                # @show \n",
    "                @constraint(model, x[i, j] == 0);\n",
    "            end\n",
    "\n",
    "            # MTZ constraint\n",
    "            @constraint(model, u[i]- u[j] + grid_size*x[i, j] <= grid_size - 1);\n",
    "    \n",
    "            # edge cost\n",
    "            norm_dist[i+1, j+1] = norm(numToCoord(i, n, spacing) - numToCoord(j, n, spacing));\n",
    "            c[i+1, j+1] = norm_dist[i+1, j+1];\n",
    "            \n",
    "            # If flow coming in or going out of a no-go zone, increase cost by 1.5\n",
    "            if in(i, no_go_num) || in(j, no_go_num)\n",
    "                c[i+1, j+1] *= penalty_factor;              \n",
    "            end\n",
    "\n",
    "            cost += c[i+1, j+1]*x[i, j];\n",
    "            \n",
    "            # all edges other than the eight closest ones are zero \n",
    "            if norm_dist[i+1, j+1] > (sqrt(2) + tol)\n",
    "                @constraint(model, x[i, j] == 0);\n",
    "            end    \n",
    "        end   \n",
    "        \n",
    "    end\n",
    "    \n",
    "    # port of origin\n",
    "    sum_in_POO = 0;\n",
    "    sum_out_POO = 0;\n",
    "    \n",
    "    for j = 0:grid_size-1\n",
    "        sum_out_POO += x[port_of_origin_num, j];\n",
    "        sum_in_POO += x[j, port_of_origin_num]; \n",
    "    end\n",
    "    \n",
    "    # @show \n",
    "    @constraint(model, sum_out_POO == 1);\n",
    "    # @show \n",
    "    @constraint(model, sum_out_POO - sum_in_POO == 1);\n",
    "    \n",
    "    ## for other ports\n",
    "    # for if-then constraints\n",
    "    e = 1; # epsilon\n",
    "    l = -1; # lower bound\n",
    "    u = 2; # upper bound\n",
    "    sum_terminal = 0;\n",
    "    \n",
    "    for p=1:length(port_num)\n",
    "        i = port_num[p];\n",
    "        if i!=port_of_origin_num\n",
    "            # println(i);\n",
    "            sum_in_port = 0;\n",
    "            sum_out_port = 0;\n",
    "    \n",
    "            for j = 0:grid_size-1\n",
    "                # port of origin\n",
    "                sum_out_port += x[i, j];\n",
    "                sum_in_port += x[j, i];\n",
    "    \n",
    "                # if flow from edge is 1, then no flow in the opposite direction\n",
    "                # @show \n",
    "                @constraint(model, x[i, j] + x[j, i] <= 1);\n",
    "               \n",
    "            end\n",
    "\n",
    "            ## if-then constraints\n",
    "            # @show \n",
    "            # @constraint(model, sum_out_port >= l*z[p] +e*(1-z[p]));\n",
    "            # # @show \n",
    "            # @constraint(model, sum_out_port <= u*(1-z[p]));\n",
    "            # @show \n",
    "            @constraint(model, sum_in_port == 1);\n",
    "            # @constraint(model, sum_in_port >= 1);\n",
    "            # @show \n",
    "            @constraint(model, sum_out_port - sum_in_port <= 0);\n",
    "    \n",
    "            # sum_terminal += z[p];\n",
    "        end\n",
    "    end\n",
    "    # @show \n",
    "    # @constraint(model, sum_terminal == 1);\n",
    "    \n",
    "    \n",
    "    # for no-go zones\n",
    "    for g=1:length(no_go_num)\n",
    "        i = no_go_num[g];\n",
    "        \n",
    "        # println(i);\n",
    "        \n",
    "        sum_in_no_go = 0;\n",
    "        sum_out_no_go = 0;\n",
    "    \n",
    "        for j = 0:grid_size-1\n",
    "            # port of origin\n",
    "            sum_out_no_go += x[i, j];\n",
    "            sum_in_no_go += x[j, i];\n",
    "        \n",
    "        end\n",
    "\n",
    "        # conserve flow\n",
    "        @constraint(model, sum_out_no_go - sum_in_no_go ==0);\n",
    "        \n",
    "    end\n",
    "    \n",
    "    # for all-else\n",
    "    for a=1:length(all_else_num)\n",
    "        i = all_else_num[a];\n",
    "        \n",
    "        # println(i);\n",
    "        \n",
    "        sum_out_all_else = 0;\n",
    "        sum_in_all_else = 0;\n",
    "    \n",
    "        for j = 0:grid_size-1\n",
    "            # port of origin\n",
    "            sum_out_all_else += x[i, j];\n",
    "            sum_in_all_else += x[j, i];\n",
    "    \n",
    "            # if flow from edge is 1, then no flow in the opposite direction\n",
    "            # @show \n",
    "            # @constraint(model, x[i, j] + x[j, i] <= 1);\n",
    "           \n",
    "        end\n",
    "        # @show \n",
    "        @constraint(model, sum_out_all_else - sum_in_all_else == 0);\n",
    "        \n",
    "    end\n",
    "    \n",
    "    #objective function\n",
    "    @objective(model, Min, cost);\n",
    "\n",
    "    @show model\n",
    "\n",
    "    set_optimizer(model, solver.Optimizer);\n",
    "    # set_silent(model);\n",
    "    optimize!(model);\n",
    "\n",
    "    println(termination_status(model));\n",
    "\n",
    "    try\n",
    "        x_opt = JuMP.value.(x);\n",
    "        z_opt = JuMP.value.(z);\n",
    "        obj_opt = objective_value(model);\n",
    "            \n",
    "        return x_opt, z_opt, obj_opt, model\n",
    "    catch\n",
    "    # else\n",
    "        error(\"Model did not optimize!\")\n",
    "    end\n",
    "\n",
    "end"
   ]
  },
  {
   "cell_type": "markdown",
   "id": "0229eaa0-6bab-4d55-bcc6-b390e34a178b",
   "metadata": {},
   "source": [
    "### Initialize parameters"
   ]
  },
  {
   "cell_type": "code",
   "execution_count": 14,
   "id": "8eb8d298-719c-4166-99bc-09a7d742a0e1",
   "metadata": {},
   "outputs": [
    {
     "data": {
      "image/png": "[encoded data removed]",
      "text/plain": [
       "Figure(PyObject <Figure size 500x500 with 1 Axes>)"
      ]
     },
     "metadata": {},
     "output_type": "display_data"
    }
   ],
   "source": [
    "### Grid setup\n",
    "# grid size (square)\n",
    "n = 8;\n",
    "spacing = 1; # always keep 1?\n",
    "\n",
    "### port information\n",
    "# number of ports on grid\n",
    "m = 30;\n",
    "\n",
    "### no-go zones\n",
    "k = 15;\n",
    "\n",
    "grid_data = initializeParam(n, spacing, m, k, 0.95);\n",
    "port_num, port_of_origin_num, no_go_num = randomizePortsNoRepeat(grid_data)\n",
    "f = visualizeGrid(grid_data, port_num, port_of_origin_num, no_go_num, 0);"
   ]
  },
  {
   "cell_type": "markdown",
   "id": "02b542d1-3470-4a10-8187-bb4a48290956",
   "metadata": {},
   "source": [
    "### Solve Model"
   ]
  },
  {
   "cell_type": "code",
   "execution_count": 15,
   "id": "98529cb6-0e36-43c5-afd4-efde5b017fc8",
   "metadata": {},
   "outputs": [
    {
     "name": "stdout",
     "output_type": "stream",
     "text": [
      "Set parameter Username\n",
      "Set parameter LicenseID to value 2634157\n",
      "Academic license - for non-commercial use only - expires 2026-03-09\n",
      "OPTIMAL\n",
      "Objective value: 40.55634918610404\n"
     ]
    },
    {
     "data": {
      "image/png": "[encoded data removed]",
      "text/plain": [
       "Figure(PyObject <Figure size 500x500 with 1 Axes>)"
      ]
     },
     "metadata": {},
     "output_type": "display_data"
    }
   ],
   "source": [
    "solver = Gurobi;\n",
    "x_opt, z_opt, obj_opt = optModelMinCost(grid_data, port_num, port_of_origin_num, no_go_num, solver);\n",
    "println(\"Objective value: $(obj_opt)\");\n",
    "f = visualizeGrid(grid_data, port_num, port_of_origin_num, no_go_num, x_opt.data);"
   ]
  },
  {
   "cell_type": "code",
   "execution_count": 16,
   "id": "b324c0cd-0161-4041-b392-1a8741a744b5",
   "metadata": {
    "scrolled": true
   },
   "outputs": [
    {
     "name": "stdout",
     "output_type": "stream",
     "text": [
      "model = A JuMP Model\n",
      "├ solver: none\n",
      "├ objective_sense: MIN_SENSE\n",
      "│ └ objective_function_type: AffExpr\n",
      "├ num_variables: 4190\n",
      "├ num_constraints: 13913\n",
      "│ ├ AffExpr in MOI.EqualTo{Float64}: 3742\n",
      "│ ├ AffExpr in MOI.LessThan{Float64}: 5981\n",
      "│ ├ VariableRef in MOI.GreaterThan{Float64}: 64\n",
      "│ └ VariableRef in MOI.ZeroOne: 4126\n",
      "└ Names registered in the model\n",
      "  └ :u, :x, :z\n",
      "Set parameter Username\n",
      "Set parameter LicenseID to value 2634157\n",
      "Academic license - for non-commercial use only - expires 2026-03-09\n",
      "Gurobi Optimizer version 12.0.1 build v12.0.1rc0 (win64 - Windows 11.0 (26100.2))\n",
      "\n",
      "CPU model: AMD Ryzen 5 8645HS w/ Radeon 760M Graphics, instruction set [SSE2|AVX|AVX2|AVX512]\n",
      "Thread count: 6 physical cores, 12 logical processors, using up to 12 threads\n",
      "\n",
      "Optimize a model with 9723 rows, 4190 columns and 29504 nonzeros\n",
      "Model fingerprint: 0xb2131ac3\n",
      "Variable types: 64 continuous, 4126 integer (4126 binary)\n",
      "Coefficient statistics:\n",
      "  Matrix range     [1e+00, 6e+01]\n",
      "  Objective range  [1e+00, 1e+01]\n",
      "  Bounds range     [0e+00, 0e+00]\n",
      "  RHS range        [1e+00, 6e+01]\n",
      "Presolve removed 9087 rows and 3724 columns\n",
      "Presolve time: 0.01s\n",
      "Presolved: 636 rows, 466 columns, 3227 nonzeros\n",
      "Variable types: 62 continuous, 404 integer (404 binary)\n",
      "\n",
      "Root relaxation: objective 3.681371e+01, 268 iterations, 0.00 seconds (0.00 work units)\n",
      "\n",
      "    Nodes    |    Current Node    |     Objective Bounds      |     Work\n",
      " Expl Unexpl |  Obj  Depth IntInf | Incumbent    BestBd   Gap | It/Node Time\n",
      "\n",
      "     0     0   36.81371    0   53          -   36.81371      -     -    0s\n",
      "     0     0   37.02082    0   20          -   37.02082      -     -    0s\n",
      "H    0     0                      37.7279221   37.02082  1.87%     -    0s\n",
      "     0     0   37.14214    0   10   37.72792   37.14214  1.55%     -    0s\n",
      "     0     0   37.14214    0    7   37.72792   37.14214  1.55%     -    0s\n",
      "H    0     0                      37.1421356   37.14214  0.00%     -    0s\n",
      "     0     0   37.14214    0    7   37.14214   37.14214  0.00%     -    0s\n",
      "\n",
      "Explored 1 nodes (754 simplex iterations) in 0.05 seconds (0.05 work units)\n",
      "Thread count was 12 (of 12 available processors)\n",
      "\n",
      "Solution count 2: 37.1421 37.7279 \n",
      "\n",
      "Optimal solution found (tolerance 1.00e-04)\n",
      "Best objective 3.714213562373e+01, best bound 3.714213562373e+01, gap 0.0000%\n",
      "\n",
      "User-callback calls 487, time in user-callback 0.00 sec\n",
      "OPTIMAL\n",
      "Objective value: 37.14213562373095\n"
     ]
    },
    {
     "data": {
      "image/png": "[encoded data removed]",
      "text/plain": [
       "Figure(PyObject <Figure size 500x500 with 1 Axes>)"
      ]
     },
     "metadata": {},
     "output_type": "display_data"
    }
   ],
   "source": [
    "solver = Gurobi;\n",
    "penalty_factor = 1.0;\n",
    "x_opt, z_opt, obj_opt = optModelAllowNoGo(grid_data, port_num, port_of_origin_num, no_go_num, penalty_factor, solver);\n",
    "println(\"Objective value: $(obj_opt)\");\n",
    "f = visualizeGrid(grid_data, port_num, port_of_origin_num, no_go_num, x_opt.data);"
   ]
  },
  {
   "cell_type": "code",
   "execution_count": 17,
   "id": "50d03c85-8df4-492a-845f-0f1c4abfc1f7",
   "metadata": {},
   "outputs": [
    {
     "name": "stdout",
     "output_type": "stream",
     "text": [
      "model = A JuMP Model\n",
      "├ solver: none\n",
      "├ objective_sense: MIN_SENSE\n",
      "│ └ objective_function_type: AffExpr\n",
      "├ num_variables: 4190\n",
      "├ num_constraints: 13913\n",
      "│ ├ AffExpr in MOI.EqualTo{Float64}: 3742\n",
      "│ ├ AffExpr in MOI.LessThan{Float64}: 5981\n",
      "│ ├ VariableRef in MOI.GreaterThan{Float64}: 64\n",
      "│ └ VariableRef in MOI.ZeroOne: 4126\n",
      "└ Names registered in the model\n",
      "  └ :u, :x, :z\n",
      "Set parameter Username\n",
      "Set parameter LicenseID to value 2634157\n",
      "Academic license - for non-commercial use only - expires 2026-03-09\n",
      "Gurobi Optimizer version 12.0.1 build v12.0.1rc0 (win64 - Windows 11.0 (26100.2))\n",
      "\n",
      "CPU model: AMD Ryzen 5 8645HS w/ Radeon 760M Graphics, instruction set [SSE2|AVX|AVX2|AVX512]\n",
      "Thread count: 6 physical cores, 12 logical processors, using up to 12 threads\n",
      "\n",
      "Optimize a model with 9723 rows, 4190 columns and 29504 nonzeros\n",
      "Model fingerprint: 0xb0b48a21\n",
      "Variable types: 64 continuous, 4126 integer (4126 binary)\n",
      "Coefficient statistics:\n",
      "  Matrix range     [1e+00, 6e+01]\n",
      "  Objective range  [5e-01, 1e+01]\n",
      "  Bounds range     [0e+00, 0e+00]\n",
      "  RHS range        [1e+00, 6e+01]\n",
      "Presolve removed 9087 rows and 3724 columns\n",
      "Presolve time: 0.01s\n",
      "Presolved: 636 rows, 466 columns, 3227 nonzeros\n",
      "Variable types: 62 continuous, 404 integer (404 binary)\n",
      "\n",
      "Root relaxation: objective 3.155330e+01, 417 iterations, 0.00 seconds (0.00 work units)\n",
      "\n",
      "    Nodes    |    Current Node    |     Objective Bounds      |     Work\n",
      " Expl Unexpl |  Obj  Depth IntInf | Incumbent    BestBd   Gap | It/Node Time\n",
      "\n",
      "     0     0   31.55330    0   59          -   31.55330      -     -    0s\n",
      "     0     0   31.91574    0   41          -   31.91574      -     -    0s\n",
      "H    0     0                      32.8639610   31.96751  2.73%     -    0s\n",
      "H    0     0                      32.4852814   31.96751  1.59%     -    0s\n",
      "     0     0   32.07107    0   69   32.48528   32.07107  1.28%     -    0s\n",
      "     0     0   32.07107    0   55   32.48528   32.07107  1.28%     -    0s\n",
      "     0     0   32.07107    0   46   32.48528   32.07107  1.28%     -    0s\n",
      "     0     0   32.07107    0   46   32.48528   32.07107  1.28%     -    0s\n",
      "     0     0   32.07107    0   67   32.48528   32.07107  1.28%     -    0s\n",
      "     0     0   32.07107    0   67   32.48528   32.07107  1.28%     -    0s\n",
      "     0     0   32.07107    0   10   32.48528   32.07107  1.28%     -    0s\n",
      "H    0     0                      32.0710678   32.07107  0.00%     -    0s\n",
      "     0     0   32.07107    0   10   32.07107   32.07107  0.00%     -    0s\n",
      "\n",
      "Cutting planes:\n",
      "  Gomory: 5\n",
      "  Cover: 1\n",
      "  Implied bound: 3\n",
      "  MIR: 1\n",
      "  Zero half: 15\n",
      "  RLT: 7\n",
      "\n",
      "Explored 1 nodes (1352 simplex iterations) in 0.08 seconds (0.07 work units)\n",
      "Thread count was 12 (of 12 available processors)\n",
      "\n",
      "Solution count 4: 32.0711 32.4853 32.6569 32.864 \n",
      "\n",
      "Optimal solution found (tolerance 1.00e-04)\n",
      "Best objective 3.207106781187e+01, best bound 3.207106781187e+01, gap 0.0000%\n",
      "\n",
      "User-callback calls 527, time in user-callback 0.00 sec\n",
      "OPTIMAL\n",
      "Objective value: 32.071067811865476\n"
     ]
    },
    {
     "data": {
      "image/png": "[encoded data removed]",
      "text/plain": [
       "Figure(PyObject <Figure size 500x500 with 1 Axes>)"
      ]
     },
     "metadata": {},
     "output_type": "display_data"
    }
   ],
   "source": [
    "solver = Gurobi;\n",
    "penalty_factor = 0.5;\n",
    "x_opt, z_opt, obj_opt = optModelAllowNoGo(grid_data, port_num, port_of_origin_num, no_go_num, penalty_factor, solver);\n",
    "println(\"Objective value: $(obj_opt)\");\n",
    "f = visualizeGrid(grid_data, port_num, port_of_origin_num, no_go_num, x_opt.data);"
   ]
  },
  {
   "cell_type": "code",
   "execution_count": 18,
   "id": "5bfaea9c-2df5-4e25-aa73-08ef373aae00",
   "metadata": {},
   "outputs": [
    {
     "name": "stdout",
     "output_type": "stream",
     "text": [
      "model = A JuMP Model\n",
      "├ solver: none\n",
      "├ objective_sense: MIN_SENSE\n",
      "│ └ objective_function_type: AffExpr\n",
      "├ num_variables: 4190\n",
      "├ num_constraints: 13913\n",
      "│ ├ AffExpr in MOI.EqualTo{Float64}: 3742\n",
      "│ ├ AffExpr in MOI.LessThan{Float64}: 5981\n",
      "│ ├ VariableRef in MOI.GreaterThan{Float64}: 64\n",
      "│ └ VariableRef in MOI.ZeroOne: 4126\n",
      "└ Names registered in the model\n",
      "  └ :u, :x, :z\n",
      "Set parameter Username\n",
      "Set parameter LicenseID to value 2634157\n",
      "Academic license - for non-commercial use only - expires 2026-03-09\n",
      "Gurobi Optimizer version 12.0.1 build v12.0.1rc0 (win64 - Windows 11.0 (26100.2))\n",
      "\n",
      "CPU model: AMD Ryzen 5 8645HS w/ Radeon 760M Graphics, instruction set [SSE2|AVX|AVX2|AVX512]\n",
      "Thread count: 6 physical cores, 12 logical processors, using up to 12 threads\n",
      "\n",
      "Optimize a model with 9723 rows, 4190 columns and 29504 nonzeros\n",
      "Model fingerprint: 0xb7f33071\n",
      "Variable types: 64 continuous, 4126 integer (4126 binary)\n",
      "Coefficient statistics:\n",
      "  Matrix range     [1e+00, 6e+01]\n",
      "  Objective range  [1e+00, 9e+01]\n",
      "  Bounds range     [0e+00, 0e+00]\n",
      "  RHS range        [1e+00, 6e+01]\n",
      "Presolve removed 9087 rows and 3724 columns\n",
      "Presolve time: 0.01s\n",
      "Presolved: 636 rows, 466 columns, 3227 nonzeros\n",
      "Variable types: 62 continuous, 404 integer (404 binary)\n",
      "\n",
      "Root relaxation: objective 3.743503e+01, 303 iterations, 0.00 seconds (0.00 work units)\n",
      "\n",
      "    Nodes    |    Current Node    |     Objective Bounds      |     Work\n",
      " Expl Unexpl |  Obj  Depth IntInf | Incumbent    BestBd   Gap | It/Node Time\n",
      "\n",
      "     0     0   37.43503    0   50          -   37.43503      -     -    0s\n",
      "     0     0   38.55635    0   56          -   38.55635      -     -    0s\n",
      "     0     0   39.02514    0   73          -   39.02514      -     -    0s\n",
      "     0     0   39.14646    0   73          -   39.14646      -     -    0s\n",
      "     0     0   39.14656    0   64          -   39.14656      -     -    0s\n",
      "     0     0   39.14656    0   64          -   39.14656      -     -    0s\n",
      "     0     0   39.14656    0   78          -   39.14656      -     -    0s\n",
      "H    0     0                      94.5269119   39.14656  58.6%     -    0s\n",
      "H    0     0                      88.0832611   39.14656  55.6%     -    0s\n",
      "H    0     0                      64.9411255   39.14656  39.7%     -    0s\n",
      "     0     0   39.14656    0   80   64.94113   39.14656  39.7%     -    0s\n",
      "     0     0   39.33962    0   81   64.94113   39.33962  39.4%     -    0s\n",
      "     0     0   39.33962    0   81   64.94113   39.33962  39.4%     -    0s\n",
      "     0     0   39.33962    0   85   64.94113   39.33962  39.4%     -    0s\n",
      "     0     0   39.33962    0   90   64.94113   39.33962  39.4%     -    0s\n",
      "     0     0   39.33962    0   84   64.94113   39.33962  39.4%     -    0s\n",
      "     0     0   39.33962    0   69   64.94113   39.33962  39.4%     -    0s\n",
      "H    0     0                      64.5269119   39.35175  39.0%     -    0s\n",
      "     0     2   39.35175    0   69   64.52691   39.35175  39.0%     -    0s\n",
      "H   43    72                      63.1126984   39.43503  37.5%  21.0    0s\n",
      "H  103   125                      62.6984848   39.43503  37.1%  15.9    0s\n",
      "*  471   380              41      62.6274170   39.73371  36.6%  12.3    0s\n",
      "H  625   450                      60.6274170   39.73755  34.5%  12.2    0s\n",
      "H  640   434                      59.7989899   39.73755  33.5%  12.2    0s\n",
      "* 1502   899              16      56.5563492   39.86836  29.5%  12.2    0s\n",
      "* 2107  1169              21      41.1421356   39.97056  2.85%  13.1    0s\n",
      "H 2121  1101                      40.5563492   39.97056  1.44%  13.1    0s\n",
      "\n",
      "Cutting planes:\n",
      "  Gomory: 22\n",
      "  Cover: 1\n",
      "  Implied bound: 9\n",
      "  MIR: 8\n",
      "  Flow cover: 10\n",
      "  Inf proof: 7\n",
      "  Zero half: 12\n",
      "  RLT: 13\n",
      "\n",
      "Explored 2352 nodes (30583 simplex iterations) in 0.50 seconds (0.61 work units)\n",
      "Thread count was 12 (of 12 available processors)\n",
      "\n",
      "Solution count 10: 40.5563 41.1421 56.5563 ... 64.9411\n",
      "\n",
      "Optimal solution found (tolerance 1.00e-04)\n",
      "Best objective 4.055634918610e+01, best bound 4.055634918610e+01, gap 0.0000%\n",
      "\n",
      "User-callback calls 5432, time in user-callback 0.00 sec\n",
      "OPTIMAL\n",
      "Objective value: 40.55634918610404\n"
     ]
    },
    {
     "data": {
      "image/png": "[encoded data removed]",
      "text/plain": [
       "Figure(PyObject <Figure size 500x500 with 1 Axes>)"
      ]
     },
     "metadata": {},
     "output_type": "display_data"
    }
   ],
   "source": [
    "solver = Gurobi;\n",
    "penalty_factor = 10;\n",
    "x_opt, z_opt, obj_opt = optModelAllowNoGo(grid_data, port_num, port_of_origin_num, no_go_num, penalty_factor, solver);\n",
    "println(\"Objective value: $(obj_opt)\");\n",
    "f = visualizeGrid(grid_data, port_num, port_of_origin_num, no_go_num, x_opt.data);"
   ]
  },
  {
   "cell_type": "code",
   "execution_count": 19,
   "id": "acd71e50-961c-4962-857b-bd4c4a28290f",
   "metadata": {},
   "outputs": [],
   "source": [
    "# For if-then conditions\n",
    "# utilize previous conditions to ensure good constraints\n",
    "\n",
    "# why can't lines be eliminated by saying sum of ports with one outgoing 1?"
   ]
  },
  {
   "cell_type": "code",
   "execution_count": null,
   "id": "3e1a8569-1694-463d-b30b-066ea4bfebc7",
   "metadata": {},
   "outputs": [],
   "source": []
  }
 ],
 "metadata": {
  "kernelspec": {
   "display_name": "Julia 1.11.3",
   "language": "julia",
   "name": "julia-1.11"
  },
  "language_info": {
   "file_extension": ".jl",
   "mimetype": "application/julia",
   "name": "julia",
   "version": "1.11.3"
  }
 },
 "nbformat": 4,
 "nbformat_minor": 5
}
